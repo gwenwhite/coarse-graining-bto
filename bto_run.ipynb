{
 "cells": [
  {
   "cell_type": "code",
   "execution_count": 1,
   "id": "06cf290f",
   "metadata": {
    "scrolled": true
   },
   "outputs": [
    {
     "name": "stderr",
     "output_type": "stream",
     "text": [
      "Warning: importing 'simtk.openmm' is deprecated.  Import 'openmm' instead.\n"
     ]
    }
   ],
   "source": [
    "import mbuild as mb\n",
    "import foyer\n",
    "import itertools\n",
    "import math\n",
    "import gsd.hoomd\n",
    "import hoomd\n",
    "import numpy"
   ]
  },
  {
   "cell_type": "code",
   "execution_count": 2,
   "id": "1f7da555",
   "metadata": {},
   "outputs": [
    {
     "name": "stderr",
     "output_type": "stream",
     "text": [
      "/home/gwenwhite/miniconda3/envs/grits/lib/python3.8/site-packages/mbuild/conversion.py:1763: UserWarning: No element attribute associated with '<_A1 pos=([0. 0. 0.]), 2 bonds, id: 140383410513712>'; and no matching elements found based upon the compound name. Setting atomic number to zero.\n",
      "  warn(warn_msg)\n",
      "/home/gwenwhite/miniconda3/envs/grits/lib/python3.8/site-packages/mbuild/conversion.py:1763: UserWarning: No element attribute associated with '<_D pos=([ 0.6 -0.4  0. ]), 4 bonds, id: 140383410514048>'; and no matching elements found based upon the compound name. Setting atomic number to zero.\n",
      "  warn(warn_msg)\n",
      "/home/gwenwhite/miniconda3/envs/grits/lib/python3.8/site-packages/mbuild/conversion.py:1763: UserWarning: No element attribute associated with '<_A2 pos=([ 1.  -1.2  0. ]), 1 bonds, id: 140383410514720>'; and no matching elements found based upon the compound name. Setting atomic number to zero.\n",
      "  warn(warn_msg)\n",
      "/home/gwenwhite/miniconda3/envs/grits/lib/python3.8/site-packages/mbuild/conversion.py:1763: UserWarning: No element attribute associated with '<_SS pos=([-0.1568 -0.6363  0.4135]), 1 bonds, id: 140383410515392>'; and no matching elements found based upon the compound name. Setting atomic number to zero.\n",
      "  warn(warn_msg)\n",
      "/home/gwenwhite/miniconda3/envs/grits/lib/python3.8/site-packages/mbuild/conversion.py:1763: UserWarning: No element attribute associated with '<_SL1 pos=([1.1  0.02 0.  ]), 2 bonds, id: 140383410520224>'; and no matching elements found based upon the compound name. Setting atomic number to zero.\n",
      "  warn(warn_msg)\n",
      "/home/gwenwhite/miniconda3/envs/grits/lib/python3.8/site-packages/mbuild/conversion.py:1763: UserWarning: No element attribute associated with '<_SL2 pos=([1.2 0.6 0. ]), 1 bonds, id: 140383410520896>'; and no matching elements found based upon the compound name. Setting atomic number to zero.\n",
      "  warn(warn_msg)\n",
      "/home/gwenwhite/miniconda3/envs/grits/lib/python3.8/site-packages/mbuild/formats/xyz.py:68: UserWarning: No matching element found for EP; the particle will be added to the compound without an element attribute.\n",
      "  warn(\n"
     ]
    }
   ],
   "source": [
    "class btoCompound(mb.Compound):\n",
    "    def __init__(self):\n",
    "        super(btoCompound, self).__init__()\n",
    "        particle_A1 = mb.Particle(name=\"_A1\", pos=[0, 0, 0])\n",
    "        particle_D1 = mb.Particle(name=\"_D\", pos=[0.6, -0.4, 0])\n",
    "        particle_D2 = mb.Particle(name=\"_D\", pos=[-0.6, -0.4, 0])\n",
    "        particle_A21 = mb.Particle(name=\"_A2\", pos=[1, -1.2, 0])\n",
    "        particle_A22 = mb.Particle(name=\"_A2\", pos=[-1, -1.2, 0])\n",
    "        particle_ss1 = mb.Particle(name=\"_SS\", pos=[-0.1568, -0.6363, 0.4135])\n",
    "        particle_ss2 = mb.Particle(name=\"_SS\", pos=[0.1568, -0.6363, 0.4135])\n",
    "        particle_sl11 = mb.Particle(name=\"_SL1\", pos=[1.1, 0.02, 0])\n",
    "        particle_sl12 = mb.Particle(name=\"_SL1\", pos=[-1.1, 0.02, 0])\n",
    "        particle_sl21 = mb.Particle(name=\"_SL2\", pos=[1.2, 0.6, 0])\n",
    "        particle_sl22 = mb.Particle(name=\"_SL2\", pos=[-1.2, 0.6, 0])\n",
    "        self.add(particle_A1)\n",
    "        self.add(particle_D1)\n",
    "        self.add(particle_D2)\n",
    "        self.add(particle_A21)\n",
    "        self.add(particle_A22)\n",
    "        self.add(particle_ss1)\n",
    "        self.add(particle_ss2)\n",
    "        self.add(particle_sl11)\n",
    "        self.add(particle_sl12)\n",
    "        self.add(particle_sl21)\n",
    "        self.add(particle_sl22)\n",
    "        self.add_bond((self[0], self[1]))\n",
    "        self.add_bond((self[0], self[2]))\n",
    "        self.add_bond((self[1], self[3]))\n",
    "        self.add_bond((self[2], self[4]))\n",
    "        self.add_bond((self[1], self[5]))\n",
    "        self.add_bond((self[2], self[6]))\n",
    "        self.add_bond((self[1], self[7]))\n",
    "        self.add_bond((self[2], self[8]))\n",
    "        self.add_bond((self[7], self[9]))\n",
    "        self.add_bond((self[8], self[10]))\n",
    "        \n",
    "\n",
    "bto_compound = btoCompound()   \n",
    "box_bto = mb.fill_box(compound=bto_compound, n_compounds=5, box=[1000, 1000, 1000])"
   ]
  },
  {
   "cell_type": "code",
   "execution_count": 3,
   "id": "027bf970",
   "metadata": {},
   "outputs": [
    {
     "name": "stderr",
     "output_type": "stream",
     "text": [
      "/home/gwenwhite/miniconda3/envs/grits/lib/python3.8/site-packages/foyer/forcefield.py:665: UserWarning: Non-atomistic element type detected. Creating custom element for _A1\n",
      "  warnings.warn(\n",
      "/home/gwenwhite/miniconda3/envs/grits/lib/python3.8/site-packages/foyer/forcefield.py:665: UserWarning: Non-atomistic element type detected. Creating custom element for _D\n",
      "  warnings.warn(\n",
      "/home/gwenwhite/miniconda3/envs/grits/lib/python3.8/site-packages/foyer/forcefield.py:665: UserWarning: Non-atomistic element type detected. Creating custom element for _A2\n",
      "  warnings.warn(\n",
      "/home/gwenwhite/miniconda3/envs/grits/lib/python3.8/site-packages/foyer/forcefield.py:665: UserWarning: Non-atomistic element type detected. Creating custom element for _SS\n",
      "  warnings.warn(\n",
      "/home/gwenwhite/miniconda3/envs/grits/lib/python3.8/site-packages/foyer/forcefield.py:665: UserWarning: Non-atomistic element type detected. Creating custom element for _SL1\n",
      "  warnings.warn(\n",
      "/home/gwenwhite/miniconda3/envs/grits/lib/python3.8/site-packages/foyer/forcefield.py:665: UserWarning: Non-atomistic element type detected. Creating custom element for _SL2\n",
      "  warnings.warn(\n",
      "/home/gwenwhite/miniconda3/envs/grits/lib/python3.8/site-packages/foyer/forcefield.py:629: UserWarning: No force field version number found in force field XML file.\n",
      "  warnings.warn(\n",
      "/home/gwenwhite/miniconda3/envs/grits/lib/python3.8/site-packages/foyer/forcefield.py:641: UserWarning: No force field name found in force field XML file.\n",
      "  warnings.warn(\n",
      "/home/gwenwhite/miniconda3/envs/grits/lib/python3.8/site-packages/foyer/forcefield.py:653: UserWarning: No combining rule found in force field XML file.\n",
      "  warnings.warn(\n"
     ]
    }
   ],
   "source": [
    "foyer_forcefield = foyer.Forcefield(\"bto-ff.xml\")"
   ]
  },
  {
   "cell_type": "code",
   "execution_count": 4,
   "id": "4eff41a2",
   "metadata": {},
   "outputs": [
    {
     "name": "stderr",
     "output_type": "stream",
     "text": [
      "/home/gwenwhite/miniconda3/envs/grits/lib/python3.8/site-packages/mbuild/conversion.py:1763: UserWarning: No element attribute associated with '<_A1 pos=([60.5712 42.03   56.8524]), 2 bonds, id: 140383410523920>'; and no matching elements found based upon the compound name. Setting atomic number to zero.\n",
      "  warn(warn_msg)\n",
      "/home/gwenwhite/miniconda3/envs/grits/lib/python3.8/site-packages/mbuild/conversion.py:1763: UserWarning: No element attribute associated with '<_D pos=([60.5637 41.8989 57.5615]), 4 bonds, id: 140383410524064>'; and no matching elements found based upon the compound name. Setting atomic number to zero.\n",
      "  warn(warn_msg)\n",
      "/home/gwenwhite/miniconda3/envs/grits/lib/python3.8/site-packages/mbuild/conversion.py:1763: UserWarning: No element attribute associated with '<_A2 pos=([60.1127 41.7325 58.3157]), 1 bonds, id: 140383410520368>'; and no matching elements found based upon the compound name. Setting atomic number to zero.\n",
      "  warn(warn_msg)\n",
      "/home/gwenwhite/miniconda3/envs/grits/lib/python3.8/site-packages/mbuild/conversion.py:1763: UserWarning: No element attribute associated with '<_SS pos=([59.9288 42.3604 57.133 ]), 1 bonds, id: 140383410643392>'; and no matching elements found based upon the compound name. Setting atomic number to zero.\n",
      "  warn(warn_msg)\n",
      "/home/gwenwhite/miniconda3/envs/grits/lib/python3.8/site-packages/mbuild/conversion.py:1763: UserWarning: No element attribute associated with '<_SL1 pos=([61.1874 41.9014 57.7547]), 2 bonds, id: 140383410643056>'; and no matching elements found based upon the compound name. Setting atomic number to zero.\n",
      "  warn(warn_msg)\n",
      "/home/gwenwhite/miniconda3/envs/grits/lib/python3.8/site-packages/mbuild/conversion.py:1763: UserWarning: No element attribute associated with '<_SL2 pos=([61.727  41.9754 57.5315]), 1 bonds, id: 140383410645792>'; and no matching elements found based upon the compound name. Setting atomic number to zero.\n",
      "  warn(warn_msg)\n",
      "/home/gwenwhite/miniconda3/envs/grits/lib/python3.8/site-packages/foyer/forcefield.py:349: UserWarning: Parameters have not been assigned to all impropers. Total system impropers: 40, Parameterized impropers: 0. Note that if your system contains torsions of Ryckaert-Bellemans functional form, all of these torsions are processed as propers\n",
      "  warnings.warn(msg)\n"
     ]
    }
   ],
   "source": [
    "typed_bto = foyer_forcefield.apply(box_bto)"
   ]
  },
  {
   "cell_type": "code",
   "execution_count": 5,
   "id": "fb079ed7",
   "metadata": {},
   "outputs": [],
   "source": [
    "from mbuild.formats.hoomd_forcefield import create_hoomd_forcefield"
   ]
  },
  {
   "cell_type": "code",
   "execution_count": 6,
   "id": "b0e174cf",
   "metadata": {},
   "outputs": [
    {
     "name": "stdout",
     "output_type": "stream",
     "text": [
      "Processing LJ and QQ\n",
      "No charged groups found, ignoring electrostatics\n",
      "Processing harmonic bonds\n",
      "Processing harmonic angles\n",
      "Processing periodic torsions\n"
     ]
    }
   ],
   "source": [
    "snapshot, forcefield, refs = create_hoomd_forcefield(\n",
    "    typed_bto,\n",
    "    auto_scale=True,\n",
    "    r_cut=2.5\n",
    ")"
   ]
  },
  {
   "cell_type": "code",
   "execution_count": 7,
   "id": "5c6db0da",
   "metadata": {},
   "outputs": [
    {
     "data": {
      "text/plain": [
       "ref_values(distance=3.3996695084235347, mass=238.1519, energy=0.2104)"
      ]
     },
     "execution_count": 7,
     "metadata": {},
     "output_type": "execute_result"
    }
   ],
   "source": [
    "refs"
   ]
  },
  {
   "cell_type": "code",
   "execution_count": 8,
   "id": "7a986bde",
   "metadata": {},
   "outputs": [],
   "source": [
    "cpu = hoomd.device.CPU()\n",
    "sim = hoomd.Simulation(device=cpu, seed=1,)"
   ]
  },
  {
   "cell_type": "code",
   "execution_count": 9,
   "id": "2ccf79f2",
   "metadata": {},
   "outputs": [],
   "source": [
    "sim.create_state_from_snapshot(snapshot)"
   ]
  },
  {
   "cell_type": "code",
   "execution_count": 10,
   "id": "a7f4d72b",
   "metadata": {},
   "outputs": [
    {
     "data": {
      "text/plain": [
       "hoomd.box.Box(Lx=2941.462390747833, Ly=2941.462390747833, Lz=2941.462390747833, xy=0.0, xz=0.0, yz=0.0)"
      ]
     },
     "execution_count": 10,
     "metadata": {},
     "output_type": "execute_result"
    }
   ],
   "source": [
    "sim.state.box"
   ]
  },
  {
   "cell_type": "code",
   "execution_count": 11,
   "id": "2291b5fc",
   "metadata": {},
   "outputs": [
    {
     "name": "stdout",
     "output_type": "stream",
     "text": [
      "<hoomd.md.pair.pair.LJ object at 0x7fad872a3b20>\n",
      "<hoomd.md.bond.Harmonic object at 0x7fad873455e0>\n",
      "<hoomd.md.angle.Harmonic object at 0x7fad8733a9a0>\n",
      "<hoomd.md.dihedral.Harmonic object at 0x7fad8733a430>\n"
     ]
    }
   ],
   "source": [
    "for i in forcefield:\n",
    "    print(i)"
   ]
  },
  {
   "cell_type": "code",
   "execution_count": 12,
   "id": "36c7bfe3",
   "metadata": {},
   "outputs": [
    {
     "data": {
      "text/plain": [
       "list"
      ]
     },
     "execution_count": 12,
     "metadata": {},
     "output_type": "execute_result"
    }
   ],
   "source": [
    "type(forcefield)"
   ]
  },
  {
   "cell_type": "markdown",
   "id": "201cff9e",
   "metadata": {},
   "source": [
    "### build integrator"
   ]
  },
  {
   "cell_type": "code",
   "execution_count": 13,
   "id": "e26db604",
   "metadata": {},
   "outputs": [],
   "source": [
    "bonds_k = 3.\n",
    "angle_k = 3.\n",
    "dihedral_k = 3.\n",
    "\n",
    "epsilon = 1\n",
    "sigma = 1\n",
    "r_cut = 2.5\n",
    "KT = 1.5"
   ]
  },
  {
   "cell_type": "code",
   "execution_count": 14,
   "id": "7775857f",
   "metadata": {},
   "outputs": [],
   "source": [
    "integrator = hoomd.md.Integrator(dt=0.005)\n",
    "# cell = hoomd.md.nlist.Cell(buffer=0.4)\n",
    "# # Bonds\n",
    "# harmonic = hoomd.md.bond.Harmonic()\n",
    "# harmonic.params['_A1-_D'] = dict(k=bonds_k, r0=5.070)\n",
    "# harmonic.params['_A2-_D'] = dict(k=bonds_k, r0=7.1084)\n",
    "# harmonic.params['_D-_SL1'] = dict(k=bonds_k, r0=5.679)\n",
    "# harmonic.params['_D-_SS'] = dict(k=bonds_k, r0=5.295)\n",
    "# harmonic.params['_SL1-_SL2'] = dict(k=bonds_k, r0=6.916)\n",
    "# integrator.forces.append(harmonic)\n",
    "\n",
    "# # Angles\n",
    "# harmonic_angle = hoomd.md.angle.Harmonic()\n",
    "# harmonic_angle.params['_D-_A1-_D'] = dict(k=angle_k, t0=2.053) # angle=117 degree\n",
    "# harmonic_angle.params['_SL1-_D-_A'] = dict(k=angle_k, t0=1.738) # angle=99.5 degree\n",
    "# harmonic_angle.params['_A1-_D-_SS'] = dict(k=angle_k, t0=1.356) # angle=77.2 degree\n",
    "# harmonic_angle.params['_D-_SL1-_SL2'] = dict(k=angle_k, t0=2.719) \n",
    "# harmonic_angle.params['_SS-_D-_A2'] = dict(k=angle_k, t0=1.659)\n",
    "# harmonic_angle.params['_A2-_D-_SS'] = dict(k=angle_k, t0=1.659)\n",
    "# harmonic_angle.params['_A1-_D-_A2'] = dict(k=angle_k, t0=2.96)\n",
    "# harmonic_angle.params['_A1-_D-_SL1'] = dict(k=angle_k, t0=1.73)\n",
    "# harmonic_angle.params['_A2-_D-_SL1'] = dict(k=angle_k, t0=1.73)\n",
    "# harmonic_angle.params['_SS-_D-_SL1'] = dict(k=angle_k, t0=2.532) \n",
    "# harmonic_angle.params['_SL1-_D-_SS'] = dict(k=angle_k, t0=2.532) \n",
    "# integrator.forces.append(harmonic_angle)\n",
    "# # Dihedrals\n",
    "# harmonic_dihedrals = hoomd.md.dihedral.Harmonic()\n",
    "# harmonic_dihedrals.params['_D-_A1-_D-_SL1'] = dict(k=dihedral_k, d=-1, n=3, phi0=-3.039)\n",
    "# harmonic_dihedrals.params['_A1-_D-_SL1-_SL2'] = dict(k=dihedral_k, d=-1, n=3, phi0=0.0668)\n",
    "# harmonic_dihedrals.params['_D-_A1-_D-_A2'] = dict(k=dihedral_k, d=-1, n=3, phi0=0.402)\n",
    "# harmonic_dihedrals.params['_D-_A1-_D-_SS'] = dict(k=dihedral_k, d=-1, n=3, phi0=0.710)\n",
    "# harmonic_dihedrals.params['_A2-_D-_SL1-_SL2'] = dict(k=dihedral_k, d=-1, n=3, phi0=-3.127)\n",
    "# harmonic_dihedrals.params['_SS-_D-_SL1-_SL2'] = dict(k=dihedral_k, d=-1, n=3, phi0=1.502)\n",
    "# integrator.forces.append(harmonic_dihedrals)\n",
    "# # LJ potentials\n",
    "# lj = hoomd.md.pair.LJ(nlist=cell)\n",
    "# lj.params[('_A1', '_A1')] = dict(epsilon=epsilon, sigma=sigma)\n",
    "# lj.r_cut[('_A1', '_A1')] = r_cut\n",
    "# lj.params[('_A1', '_A2')] = dict(epsilon=epsilon, sigma=sigma)\n",
    "# lj.r_cut[('_A1', '_A2')] = r_cut\n",
    "# lj.params[('_A1', '_D')] = dict(epsilon=epsilon, sigma=sigma)\n",
    "# lj.r_cut[('_A1', '_D')] = r_cut\n",
    "# lj.params[('_A1', '_SS')] = dict(epsilon=epsilon, sigma=sigma)\n",
    "# lj.r_cut[('_A1', '_SS')] = r_cut\n",
    "# lj.params[('_A1', '_SL1')] = dict(epsilon=epsilon, sigma=sigma)\n",
    "# lj.r_cut[('_A1', '_SL1')] = r_cut\n",
    "# lj.params[('_A1', '_SL2')] = dict(epsilon=epsilon, sigma=sigma)\n",
    "# lj.r_cut[('_A1', '_SL2')] = r_cut\n",
    "\n",
    "# lj.params[('_A2', '_A2')] = dict(epsilon=epsilon, sigma=sigma)\n",
    "# lj.r_cut[('_A2', '_A2')] = r_cut\n",
    "# lj.params[('_A2', '_D')] = dict(epsilon=epsilon, sigma=sigma)\n",
    "# lj.r_cut[('_A2', '_D')] = r_cut\n",
    "# lj.params[('_A2', '_SS')] = dict(epsilon=epsilon, sigma=sigma)\n",
    "# lj.r_cut[('_A2', '_SS')] = r_cut\n",
    "# lj.params[('_A2', '_SL1')] = dict(epsilon=epsilon, sigma=sigma)\n",
    "# lj.r_cut[('_A2', '_SL1')] = r_cut\n",
    "# lj.params[('_A2', '_SL2')] = dict(epsilon=epsilon, sigma=sigma)\n",
    "# lj.r_cut[('_A2', '_SL2')] = r_cut\n",
    "\n",
    "# lj.params[('_D', '_D')] = dict(epsilon=epsilon, sigma=sigma)\n",
    "# lj.r_cut[('_D', '_D')] = r_cut\n",
    "# lj.params[('_D', '_SS')] = dict(epsilon=epsilon, sigma=sigma)\n",
    "# lj.r_cut[('_D', '_SS')] = r_cut\n",
    "# lj.params[('_D', '_SL1')] = dict(epsilon=epsilon, sigma=sigma)\n",
    "# lj.r_cut[('_D', '_SL1')] = r_cut\n",
    "# lj.params[('_D', '_SL2')] = dict(epsilon=epsilon, sigma=sigma)\n",
    "# lj.r_cut[('_D', '_SL2')] = r_cut\n",
    "\n",
    "# lj.params[('_SS', '_SS')] = dict(epsilon=epsilon, sigma=sigma)\n",
    "# lj.r_cut[('_SS', '_SS')] = r_cut\n",
    "# lj.params[('_SS', '_SL1')] = dict(epsilon=epsilon, sigma=sigma)\n",
    "# lj.r_cut[('_SS', '_SL1')] = r_cut\n",
    "# lj.params[('SS', '_SL2')] = dict(epsilon=epsilon, sigma=sigma)\n",
    "# lj.r_cut[('_SS', '_SL2')] = r_cut\n",
    "\n",
    "# lj.params[('_SL1', '_SL1')] = dict(epsilon=epsilon, sigma=sigma)\n",
    "# lj.r_cut[('_SL1', '_SL1')] = r_cut\n",
    "# lj.params[('_SL1', '_SL2')] = dict(epsilon=epsilon, sigma=sigma)\n",
    "# lj.r_cut[('_SL1', '_SL2')] = r_cut\n",
    "\n",
    "# lj.params[('_SL2', '_SL2')] = dict(epsilon=epsilon, sigma=sigma)\n",
    "# lj.r_cut[('_SL2', '_SL2')] = r_cut\n",
    "# lj.params[('_SL2', '_SS')] = dict(epsilon=epsilon, sigma=sigma)\n",
    "# lj.r_cut[('_SL2', '_SS')] = r_cut\n",
    "# integrator.forces.append(lj)\n",
    "integrator.forces.extend(forcefield)\n",
    "# NVT\n",
    "nvt = hoomd.md.methods.NVT(kT=KT, filter=hoomd.filter.All(), tau=1.0)\n",
    "integrator.methods.append(nvt)\n",
    "sim.operations.integrator = integrator"
   ]
  },
  {
   "cell_type": "markdown",
   "id": "bfb65f4d",
   "metadata": {},
   "source": [
    "## Box Compressor"
   ]
  },
  {
   "cell_type": "code",
   "execution_count": 15,
   "id": "e6a9bd10",
   "metadata": {},
   "outputs": [
    {
     "data": {
      "text/plain": [
       "2.161089681640111e-09"
      ]
     },
     "execution_count": 15,
     "metadata": {},
     "output_type": "execute_result"
    }
   ],
   "source": [
    "rho = sim.state.N_particles / sim.state.box.volume\n",
    "rho"
   ]
  },
  {
   "cell_type": "code",
   "execution_count": 16,
   "id": "cbbfa153",
   "metadata": {},
   "outputs": [],
   "source": [
    "initial_box = sim.state.box\n",
    "final_box = hoomd.Box.from_box(initial_box)  # make a copy of initial_box\n",
    "final_rho = 1.2\n",
    "final_box.volume = sim.state.N_particles / final_rho"
   ]
  },
  {
   "cell_type": "code",
   "execution_count": 17,
   "id": "9225bf6c",
   "metadata": {},
   "outputs": [
    {
     "data": {
      "text/plain": [
       "hoomd.box.Box(Lx=2941.462390747833, Ly=2941.462390747833, Lz=2941.462390747833, xy=0.0, xz=0.0, yz=0.0)"
      ]
     },
     "execution_count": 17,
     "metadata": {},
     "output_type": "execute_result"
    }
   ],
   "source": [
    "initial_box"
   ]
  },
  {
   "cell_type": "code",
   "execution_count": 18,
   "id": "0ffd14de",
   "metadata": {},
   "outputs": [
    {
     "data": {
      "text/plain": [
       "hoomd.box.Box(Lx=3.5787152816982366, Ly=3.5787152816982366, Lz=3.5787152816982366, xy=0.0, xz=0.0, yz=0.0)"
      ]
     },
     "execution_count": 18,
     "metadata": {},
     "output_type": "execute_result"
    }
   ],
   "source": [
    "final_box"
   ]
  },
  {
   "cell_type": "code",
   "execution_count": 19,
   "id": "590fc9fe",
   "metadata": {},
   "outputs": [],
   "source": [
    "ramp = hoomd.variant.Ramp(A=0, B=1, t_start=sim.timestep, t_ramp=20000)"
   ]
  },
  {
   "cell_type": "code",
   "execution_count": 20,
   "id": "697fba40",
   "metadata": {},
   "outputs": [],
   "source": [
    "box_resizer = hoomd.update.BoxResize(trigger=hoomd.trigger.Periodic(100),\n",
    "                                    box1=initial_box,\n",
    "                                    box2=final_box,\n",
    "                                    variant=ramp)"
   ]
  },
  {
   "cell_type": "code",
   "execution_count": 21,
   "id": "6a731014",
   "metadata": {},
   "outputs": [],
   "source": [
    "sim.operations.updaters.append(box_resizer)"
   ]
  },
  {
   "cell_type": "code",
   "execution_count": null,
   "id": "0d483c60",
   "metadata": {},
   "outputs": [],
   "source": [
    "sim.state.thermalize_particle_momenta(filter=hoomd.filter.All(), kT=KT)\n",
    "thermodynamic_properties = hoomd.md.compute.ThermodynamicQuantities(\n",
    "    filter=hoomd.filter.All())\n",
    "sim.operations.computes.append(thermodynamic_properties)\n",
    "sim.run(0)"
   ]
  },
  {
   "cell_type": "code",
   "execution_count": null,
   "id": "57d06bd0",
   "metadata": {},
   "outputs": [],
   "source": [
    "sim.state.box"
   ]
  },
  {
   "cell_type": "code",
   "execution_count": null,
   "id": "adfd8901",
   "metadata": {},
   "outputs": [],
   "source": [
    "logger = hoomd.logging.Logger()\n",
    "logger.add(thermodynamic_properties, quantities=[\"potential_energy\",\"kinetic_energy\", \"kinetic_temperature\", \"pressure\"])\n",
    "logger.add(harmonic, quantities=[\"energy\"])\n",
    "logger.add(lj, quantities=[\"energy\"])\n",
    "logger.add(harmonic_angle, quantities=[\"energy\"])\n",
    "logger.add(harmonic_dihedrals, quantities=[\"energy\"])\n",
    "gsd_writer = hoomd.write.GSD(filename='data/logs_angle_dihedral-may4/log_Y6_n100_L10_s600k_k100_T1.5.gsd',\n",
    "                             trigger=hoomd.trigger.Periodic(1000),\n",
    "                             mode='xb',\n",
    "                             filter=hoomd.filter.All())\n",
    "sim.operations.writers.append(gsd_writer)\n",
    "gsd_writer.log = logger"
   ]
  },
  {
   "cell_type": "code",
   "execution_count": null,
   "id": "6eb3e05e",
   "metadata": {},
   "outputs": [],
   "source": [
    "sim.run(6e5)"
   ]
  },
  {
   "cell_type": "code",
   "execution_count": null,
   "id": "ec052d5b",
   "metadata": {},
   "outputs": [],
   "source": [
    "sim.state.box"
   ]
  },
  {
   "cell_type": "code",
   "execution_count": null,
   "id": "7c3b4400",
   "metadata": {},
   "outputs": [],
   "source": []
  }
 ],
 "metadata": {
  "kernelspec": {
   "display_name": "Python 3 (ipykernel)",
   "language": "python",
   "name": "python3"
  },
  "language_info": {
   "codemirror_mode": {
    "name": "ipython",
    "version": 3
   },
   "file_extension": ".py",
   "mimetype": "text/x-python",
   "name": "python",
   "nbconvert_exporter": "python",
   "pygments_lexer": "ipython3",
   "version": "3.8.13"
  }
 },
 "nbformat": 4,
 "nbformat_minor": 5
}
