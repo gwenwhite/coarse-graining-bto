{
 "cells": [
  {
   "cell_type": "code",
   "execution_count": 1,
   "id": "06cf290f",
   "metadata": {
    "scrolled": true
   },
   "outputs": [
    {
     "name": "stderr",
     "output_type": "stream",
     "text": [
      "Warning: importing 'simtk.openmm' is deprecated.  Import 'openmm' instead.\n",
      "/home/gwenwhite/miniconda3/envs/cmeutils/lib/python3.7/site-packages/matplotlib/__init__.py:152: DeprecationWarning: distutils Version classes are deprecated. Use packaging.version instead.\n",
      "  if LooseVersion(module.__version__) < minver:\n",
      "/home/gwenwhite/miniconda3/envs/cmeutils/lib/python3.7/site-packages/setuptools/_distutils/version.py:351: DeprecationWarning: distutils Version classes are deprecated. Use packaging.version instead.\n",
      "  other = LooseVersion(other)\n",
      "/home/gwenwhite/miniconda3/envs/cmeutils/lib/python3.7/site-packages/matplotlib/__init__.py:152: DeprecationWarning: distutils Version classes are deprecated. Use packaging.version instead.\n",
      "  if LooseVersion(module.__version__) < minver:\n",
      "/home/gwenwhite/miniconda3/envs/cmeutils/lib/python3.7/site-packages/setuptools/_distutils/version.py:351: DeprecationWarning: distutils Version classes are deprecated. Use packaging.version instead.\n",
      "  other = LooseVersion(other)\n",
      "/home/gwenwhite/miniconda3/envs/cmeutils/lib/python3.7/site-packages/matplotlib/__init__.py:152: DeprecationWarning: distutils Version classes are deprecated. Use packaging.version instead.\n",
      "  if LooseVersion(module.__version__) < minver:\n",
      "/home/gwenwhite/miniconda3/envs/cmeutils/lib/python3.7/site-packages/setuptools/_distutils/version.py:351: DeprecationWarning: distutils Version classes are deprecated. Use packaging.version instead.\n",
      "  other = LooseVersion(other)\n",
      "/home/gwenwhite/miniconda3/envs/cmeutils/lib/python3.7/site-packages/matplotlib/__init__.py:152: DeprecationWarning: distutils Version classes are deprecated. Use packaging.version instead.\n",
      "  if LooseVersion(module.__version__) < minver:\n",
      "/home/gwenwhite/miniconda3/envs/cmeutils/lib/python3.7/site-packages/setuptools/_distutils/version.py:351: DeprecationWarning: distutils Version classes are deprecated. Use packaging.version instead.\n",
      "  other = LooseVersion(other)\n",
      "/home/gwenwhite/miniconda3/envs/cmeutils/lib/python3.7/site-packages/matplotlib/__init__.py:152: DeprecationWarning: distutils Version classes are deprecated. Use packaging.version instead.\n",
      "  if LooseVersion(module.__version__) < minver:\n",
      "/home/gwenwhite/miniconda3/envs/cmeutils/lib/python3.7/site-packages/setuptools/_distutils/version.py:351: DeprecationWarning: distutils Version classes are deprecated. Use packaging.version instead.\n",
      "  other = LooseVersion(other)\n"
     ]
    },
    {
     "ename": "NameError",
     "evalue": "name 'StrictInt' is not defined",
     "output_type": "error",
     "traceback": [
      "\u001b[0;31m---------------------------------------------------------------------------\u001b[0m",
      "\u001b[0;31mNameError\u001b[0m                                 Traceback (most recent call last)",
      "\u001b[0;32m/tmp/ipykernel_30139/3606770468.py\u001b[0m in \u001b[0;36m<module>\u001b[0;34m\u001b[0m\n\u001b[0;32m----> 1\u001b[0;31m \u001b[0;32mimport\u001b[0m \u001b[0mmbuild\u001b[0m \u001b[0;32mas\u001b[0m \u001b[0mmb\u001b[0m\u001b[0;34m\u001b[0m\u001b[0;34m\u001b[0m\u001b[0m\n\u001b[0m\u001b[1;32m      2\u001b[0m \u001b[0;32mimport\u001b[0m \u001b[0mfoyer\u001b[0m\u001b[0;34m\u001b[0m\u001b[0;34m\u001b[0m\u001b[0m\n\u001b[1;32m      3\u001b[0m \u001b[0;32mimport\u001b[0m \u001b[0mitertools\u001b[0m\u001b[0;34m\u001b[0m\u001b[0;34m\u001b[0m\u001b[0m\n\u001b[1;32m      4\u001b[0m \u001b[0;32mimport\u001b[0m \u001b[0mmath\u001b[0m\u001b[0;34m\u001b[0m\u001b[0;34m\u001b[0m\u001b[0m\n\u001b[1;32m      5\u001b[0m \u001b[0;32mimport\u001b[0m \u001b[0mgsd\u001b[0m\u001b[0;34m.\u001b[0m\u001b[0mhoomd\u001b[0m\u001b[0;34m\u001b[0m\u001b[0;34m\u001b[0m\u001b[0m\n",
      "\u001b[0;32m~/miniconda3/envs/cmeutils/lib/python3.7/site-packages/mbuild/__init__.py\u001b[0m in \u001b[0;36m<module>\u001b[0;34m\u001b[0m\n\u001b[1;32m      1\u001b[0m \u001b[0;34m\"\"\"mBuild: a hierarchical, component based molecule builder.\"\"\"\u001b[0m\u001b[0;34m\u001b[0m\u001b[0;34m\u001b[0m\u001b[0m\n\u001b[1;32m      2\u001b[0m \u001b[0;32mfrom\u001b[0m \u001b[0mmbuild\u001b[0m\u001b[0;34m.\u001b[0m\u001b[0mbox\u001b[0m \u001b[0;32mimport\u001b[0m \u001b[0mBox\u001b[0m\u001b[0;34m\u001b[0m\u001b[0;34m\u001b[0m\u001b[0m\n\u001b[0;32m----> 3\u001b[0;31m \u001b[0;32mfrom\u001b[0m \u001b[0mmbuild\u001b[0m\u001b[0;34m.\u001b[0m\u001b[0mcoarse_graining\u001b[0m \u001b[0;32mimport\u001b[0m \u001b[0mcoarse_grain\u001b[0m\u001b[0;34m\u001b[0m\u001b[0;34m\u001b[0m\u001b[0m\n\u001b[0m\u001b[1;32m      4\u001b[0m \u001b[0;32mfrom\u001b[0m \u001b[0mmbuild\u001b[0m\u001b[0;34m.\u001b[0m\u001b[0mcompound\u001b[0m \u001b[0;32mimport\u001b[0m \u001b[0;34m*\u001b[0m\u001b[0;34m\u001b[0m\u001b[0;34m\u001b[0m\u001b[0m\n\u001b[1;32m      5\u001b[0m \u001b[0;32mfrom\u001b[0m \u001b[0mmbuild\u001b[0m\u001b[0;34m.\u001b[0m\u001b[0mconversion\u001b[0m \u001b[0;32mimport\u001b[0m \u001b[0mload\u001b[0m\u001b[0;34m\u001b[0m\u001b[0;34m\u001b[0m\u001b[0m\n",
      "\u001b[0;32m~/miniconda3/envs/cmeutils/lib/python3.7/site-packages/mbuild/coarse_graining.py\u001b[0m in \u001b[0;36m<module>\u001b[0;34m\u001b[0m\n\u001b[1;32m      3\u001b[0m \u001b[0;32mfrom\u001b[0m \u001b[0mcopy\u001b[0m \u001b[0;32mimport\u001b[0m \u001b[0mdeepcopy\u001b[0m\u001b[0;34m\u001b[0m\u001b[0;34m\u001b[0m\u001b[0m\n\u001b[1;32m      4\u001b[0m \u001b[0;34m\u001b[0m\u001b[0m\n\u001b[0;32m----> 5\u001b[0;31m \u001b[0;32mfrom\u001b[0m \u001b[0mmbuild\u001b[0m\u001b[0;34m.\u001b[0m\u001b[0mcompound\u001b[0m \u001b[0;32mimport\u001b[0m \u001b[0mCompound\u001b[0m\u001b[0;34m,\u001b[0m \u001b[0mclone\u001b[0m\u001b[0;34m\u001b[0m\u001b[0;34m\u001b[0m\u001b[0m\n\u001b[0m\u001b[1;32m      6\u001b[0m \u001b[0;32mfrom\u001b[0m \u001b[0mmbuild\u001b[0m\u001b[0;34m.\u001b[0m\u001b[0mexceptions\u001b[0m \u001b[0;32mimport\u001b[0m \u001b[0mMBuildError\u001b[0m\u001b[0;34m\u001b[0m\u001b[0;34m\u001b[0m\u001b[0m\n\u001b[1;32m      7\u001b[0m \u001b[0;32mfrom\u001b[0m \u001b[0mmbuild\u001b[0m\u001b[0;34m.\u001b[0m\u001b[0mutils\u001b[0m\u001b[0;34m.\u001b[0m\u001b[0morderedset\u001b[0m \u001b[0;32mimport\u001b[0m \u001b[0mOrderedSet\u001b[0m\u001b[0;34m\u001b[0m\u001b[0;34m\u001b[0m\u001b[0m\n",
      "\u001b[0;32m~/miniconda3/envs/cmeutils/lib/python3.7/site-packages/mbuild/compound.py\u001b[0m in \u001b[0;36m<module>\u001b[0;34m\u001b[0m\n\u001b[1;32m     16\u001b[0m \u001b[0;32mfrom\u001b[0m \u001b[0mele\u001b[0m\u001b[0;34m.\u001b[0m\u001b[0mexceptions\u001b[0m \u001b[0;32mimport\u001b[0m \u001b[0mElementError\u001b[0m\u001b[0;34m\u001b[0m\u001b[0;34m\u001b[0m\u001b[0m\n\u001b[1;32m     17\u001b[0m \u001b[0;34m\u001b[0m\u001b[0m\n\u001b[0;32m---> 18\u001b[0;31m \u001b[0;32mfrom\u001b[0m \u001b[0mmbuild\u001b[0m \u001b[0;32mimport\u001b[0m \u001b[0mconversion\u001b[0m\u001b[0;34m\u001b[0m\u001b[0;34m\u001b[0m\u001b[0m\n\u001b[0m\u001b[1;32m     19\u001b[0m \u001b[0;32mfrom\u001b[0m \u001b[0mmbuild\u001b[0m\u001b[0;34m.\u001b[0m\u001b[0mbond_graph\u001b[0m \u001b[0;32mimport\u001b[0m \u001b[0mBondGraph\u001b[0m\u001b[0;34m\u001b[0m\u001b[0;34m\u001b[0m\u001b[0m\n\u001b[1;32m     20\u001b[0m \u001b[0;32mfrom\u001b[0m \u001b[0mmbuild\u001b[0m\u001b[0;34m.\u001b[0m\u001b[0mbox\u001b[0m \u001b[0;32mimport\u001b[0m \u001b[0mBox\u001b[0m\u001b[0;34m\u001b[0m\u001b[0;34m\u001b[0m\u001b[0m\n",
      "\u001b[0;32m~/miniconda3/envs/cmeutils/lib/python3.7/site-packages/mbuild/conversion.py\u001b[0m in \u001b[0;36m<module>\u001b[0;34m\u001b[0m\n\u001b[1;32m     19\u001b[0m \u001b[0;32mfrom\u001b[0m \u001b[0mmbuild\u001b[0m\u001b[0;34m.\u001b[0m\u001b[0mbox\u001b[0m \u001b[0;32mimport\u001b[0m \u001b[0mBox\u001b[0m\u001b[0;34m\u001b[0m\u001b[0;34m\u001b[0m\u001b[0m\n\u001b[1;32m     20\u001b[0m \u001b[0;32mfrom\u001b[0m \u001b[0mmbuild\u001b[0m\u001b[0;34m.\u001b[0m\u001b[0mexceptions\u001b[0m \u001b[0;32mimport\u001b[0m \u001b[0mMBuildError\u001b[0m\u001b[0;34m\u001b[0m\u001b[0;34m\u001b[0m\u001b[0m\n\u001b[0;32m---> 21\u001b[0;31m \u001b[0;32mfrom\u001b[0m \u001b[0mmbuild\u001b[0m\u001b[0;34m.\u001b[0m\u001b[0mformats\u001b[0m\u001b[0;34m.\u001b[0m\u001b[0mgsdwriter\u001b[0m \u001b[0;32mimport\u001b[0m \u001b[0mwrite_gsd\u001b[0m\u001b[0;34m\u001b[0m\u001b[0;34m\u001b[0m\u001b[0m\n\u001b[0m\u001b[1;32m     22\u001b[0m \u001b[0;32mfrom\u001b[0m \u001b[0mmbuild\u001b[0m\u001b[0;34m.\u001b[0m\u001b[0mformats\u001b[0m\u001b[0;34m.\u001b[0m\u001b[0mhoomdxml\u001b[0m \u001b[0;32mimport\u001b[0m \u001b[0mwrite_hoomdxml\u001b[0m\u001b[0;34m\u001b[0m\u001b[0;34m\u001b[0m\u001b[0m\n\u001b[1;32m     23\u001b[0m \u001b[0;32mfrom\u001b[0m \u001b[0mmbuild\u001b[0m\u001b[0;34m.\u001b[0m\u001b[0mformats\u001b[0m\u001b[0;34m.\u001b[0m\u001b[0mjson_formats\u001b[0m \u001b[0;32mimport\u001b[0m \u001b[0mcompound_from_json\u001b[0m\u001b[0;34m,\u001b[0m \u001b[0mcompound_to_json\u001b[0m\u001b[0;34m\u001b[0m\u001b[0;34m\u001b[0m\u001b[0m\n",
      "\u001b[0;32m~/miniconda3/envs/cmeutils/lib/python3.7/site-packages/mbuild/formats/gsdwriter.py\u001b[0m in \u001b[0;36m<module>\u001b[0;34m\u001b[0m\n\u001b[1;32m      6\u001b[0m \u001b[0;34m\u001b[0m\u001b[0m\n\u001b[1;32m      7\u001b[0m \u001b[0;32mfrom\u001b[0m \u001b[0mmbuild\u001b[0m\u001b[0;34m.\u001b[0m\u001b[0mutils\u001b[0m\u001b[0;34m.\u001b[0m\u001b[0mgeometry\u001b[0m \u001b[0;32mimport\u001b[0m \u001b[0mcoord_shift\u001b[0m\u001b[0;34m\u001b[0m\u001b[0;34m\u001b[0m\u001b[0m\n\u001b[0;32m----> 8\u001b[0;31m \u001b[0;32mfrom\u001b[0m \u001b[0mmbuild\u001b[0m\u001b[0;34m.\u001b[0m\u001b[0mutils\u001b[0m\u001b[0;34m.\u001b[0m\u001b[0mio\u001b[0m \u001b[0;32mimport\u001b[0m \u001b[0mimport_\u001b[0m\u001b[0;34m\u001b[0m\u001b[0;34m\u001b[0m\u001b[0m\n\u001b[0m\u001b[1;32m      9\u001b[0m \u001b[0;32mfrom\u001b[0m \u001b[0mmbuild\u001b[0m\u001b[0;34m.\u001b[0m\u001b[0mutils\u001b[0m\u001b[0;34m.\u001b[0m\u001b[0msorting\u001b[0m \u001b[0;32mimport\u001b[0m \u001b[0mnatural_sort\u001b[0m\u001b[0;34m\u001b[0m\u001b[0;34m\u001b[0m\u001b[0m\n\u001b[1;32m     10\u001b[0m \u001b[0;34m\u001b[0m\u001b[0m\n",
      "\u001b[0;32m~/miniconda3/envs/cmeutils/lib/python3.7/site-packages/mbuild/utils/io.py\u001b[0m in \u001b[0;36m<module>\u001b[0;34m\u001b[0m\n\u001b[1;32m    306\u001b[0m \u001b[0;34m\u001b[0m\u001b[0m\n\u001b[1;32m    307\u001b[0m \u001b[0;32mtry\u001b[0m\u001b[0;34m:\u001b[0m\u001b[0;34m\u001b[0m\u001b[0;34m\u001b[0m\u001b[0m\n\u001b[0;32m--> 308\u001b[0;31m     \u001b[0;32mimport\u001b[0m \u001b[0mfoyer\u001b[0m\u001b[0;34m\u001b[0m\u001b[0;34m\u001b[0m\u001b[0m\n\u001b[0m\u001b[1;32m    309\u001b[0m \u001b[0;34m\u001b[0m\u001b[0m\n\u001b[1;32m    310\u001b[0m     \u001b[0mhas_foyer\u001b[0m \u001b[0;34m=\u001b[0m \u001b[0;32mTrue\u001b[0m\u001b[0;34m\u001b[0m\u001b[0;34m\u001b[0m\u001b[0m\n",
      "\u001b[0;32m~/miniconda3/envs/cmeutils/lib/python3.7/site-packages/foyer/__init__.py\u001b[0m in \u001b[0;36m<module>\u001b[0;34m\u001b[0m\n\u001b[1;32m      1\u001b[0m \u001b[0;34m\"\"\"Foyer: A pacakage for atom-typing, applying and disseminating forcefields.\"\"\"\u001b[0m\u001b[0;34m\u001b[0m\u001b[0;34m\u001b[0m\u001b[0m\n\u001b[0;32m----> 2\u001b[0;31m \u001b[0;32mfrom\u001b[0m \u001b[0mfoyer\u001b[0m\u001b[0;34m.\u001b[0m\u001b[0mforcefield\u001b[0m \u001b[0;32mimport\u001b[0m \u001b[0mForcefield\u001b[0m\u001b[0;34m\u001b[0m\u001b[0;34m\u001b[0m\u001b[0m\n\u001b[0m\u001b[1;32m      3\u001b[0m \u001b[0;32mfrom\u001b[0m \u001b[0mfoyer\u001b[0m\u001b[0;34m.\u001b[0m\u001b[0mforcefields\u001b[0m \u001b[0;32mimport\u001b[0m \u001b[0mforcefields\u001b[0m\u001b[0;34m\u001b[0m\u001b[0;34m\u001b[0m\u001b[0m\n\u001b[1;32m      4\u001b[0m \u001b[0;34m\u001b[0m\u001b[0m\n\u001b[1;32m      5\u001b[0m \u001b[0m__version__\u001b[0m \u001b[0;34m=\u001b[0m \u001b[0;34m\"0.11.1\"\u001b[0m\u001b[0;34m\u001b[0m\u001b[0;34m\u001b[0m\u001b[0m\n",
      "\u001b[0;32m~/miniconda3/envs/cmeutils/lib/python3.7/site-packages/foyer/forcefield.py\u001b[0m in \u001b[0;36m<module>\u001b[0;34m\u001b[0m\n\u001b[1;32m     35\u001b[0m \u001b[0;32mimport\u001b[0m \u001b[0mfoyer\u001b[0m\u001b[0;34m.\u001b[0m\u001b[0melement\u001b[0m \u001b[0;32mas\u001b[0m \u001b[0mcustom_elem\u001b[0m\u001b[0;34m\u001b[0m\u001b[0;34m\u001b[0m\u001b[0m\n\u001b[1;32m     36\u001b[0m \u001b[0;32mfrom\u001b[0m \u001b[0mfoyer\u001b[0m \u001b[0;32mimport\u001b[0m \u001b[0msmarts\u001b[0m\u001b[0;34m\u001b[0m\u001b[0;34m\u001b[0m\u001b[0m\n\u001b[0;32m---> 37\u001b[0;31m \u001b[0;32mfrom\u001b[0m \u001b[0mfoyer\u001b[0m\u001b[0;34m.\u001b[0m\u001b[0matomtyper\u001b[0m \u001b[0;32mimport\u001b[0m \u001b[0mfind_atomtypes\u001b[0m\u001b[0;34m\u001b[0m\u001b[0;34m\u001b[0m\u001b[0m\n\u001b[0m\u001b[1;32m     38\u001b[0m from foyer.exceptions import (\n\u001b[1;32m     39\u001b[0m     \u001b[0mFoyerError\u001b[0m\u001b[0;34m,\u001b[0m\u001b[0;34m\u001b[0m\u001b[0;34m\u001b[0m\u001b[0m\n",
      "\u001b[0;32m~/miniconda3/envs/cmeutils/lib/python3.7/site-packages/foyer/atomtyper.py\u001b[0m in \u001b[0;36m<module>\u001b[0;34m\u001b[0m\n\u001b[1;32m      4\u001b[0m \u001b[0;32mimport\u001b[0m \u001b[0mele\u001b[0m\u001b[0;34m\u001b[0m\u001b[0;34m\u001b[0m\u001b[0m\n\u001b[1;32m      5\u001b[0m \u001b[0;32mfrom\u001b[0m \u001b[0mele\u001b[0m\u001b[0;34m.\u001b[0m\u001b[0mexceptions\u001b[0m \u001b[0;32mimport\u001b[0m \u001b[0mElementError\u001b[0m\u001b[0;34m\u001b[0m\u001b[0;34m\u001b[0m\u001b[0m\n\u001b[0;32m----> 6\u001b[0;31m \u001b[0;32mfrom\u001b[0m \u001b[0mgmso\u001b[0m \u001b[0;32mimport\u001b[0m \u001b[0mTopology\u001b[0m\u001b[0;34m\u001b[0m\u001b[0;34m\u001b[0m\u001b[0m\n\u001b[0m\u001b[1;32m      7\u001b[0m \u001b[0;32mfrom\u001b[0m \u001b[0mparmed\u001b[0m \u001b[0;32mimport\u001b[0m \u001b[0mStructure\u001b[0m\u001b[0;34m\u001b[0m\u001b[0;34m\u001b[0m\u001b[0m\n\u001b[1;32m      8\u001b[0m \u001b[0;34m\u001b[0m\u001b[0m\n",
      "\u001b[0;32m~/miniconda3/envs/cmeutils/lib/python3.7/site-packages/gmso/__init__.py\u001b[0m in \u001b[0;36m<module>\u001b[0;34m\u001b[0m\n\u001b[1;32m      1\u001b[0m \u001b[0;34m\"\"\"GMSO: General Molecular Simulation Object.\"\"\"\u001b[0m\u001b[0;34m\u001b[0m\u001b[0;34m\u001b[0m\u001b[0m\n\u001b[0;32m----> 2\u001b[0;31m \u001b[0;32mfrom\u001b[0m \u001b[0;34m.\u001b[0m\u001b[0mcore\u001b[0m\u001b[0;34m.\u001b[0m\u001b[0mangle\u001b[0m \u001b[0;32mimport\u001b[0m \u001b[0mAngle\u001b[0m\u001b[0;34m\u001b[0m\u001b[0;34m\u001b[0m\u001b[0m\n\u001b[0m\u001b[1;32m      3\u001b[0m \u001b[0;32mfrom\u001b[0m \u001b[0;34m.\u001b[0m\u001b[0mcore\u001b[0m\u001b[0;34m.\u001b[0m\u001b[0mangle_type\u001b[0m \u001b[0;32mimport\u001b[0m \u001b[0mAngleType\u001b[0m\u001b[0;34m\u001b[0m\u001b[0;34m\u001b[0m\u001b[0m\n\u001b[1;32m      4\u001b[0m \u001b[0;32mfrom\u001b[0m \u001b[0;34m.\u001b[0m\u001b[0mcore\u001b[0m\u001b[0;34m.\u001b[0m\u001b[0matom\u001b[0m \u001b[0;32mimport\u001b[0m \u001b[0mAtom\u001b[0m\u001b[0;34m\u001b[0m\u001b[0;34m\u001b[0m\u001b[0m\n\u001b[1;32m      5\u001b[0m \u001b[0;32mfrom\u001b[0m \u001b[0;34m.\u001b[0m\u001b[0mcore\u001b[0m\u001b[0;34m.\u001b[0m\u001b[0matom_type\u001b[0m \u001b[0;32mimport\u001b[0m \u001b[0mAtomType\u001b[0m\u001b[0;34m\u001b[0m\u001b[0;34m\u001b[0m\u001b[0m\n",
      "\u001b[0;32m~/miniconda3/envs/cmeutils/lib/python3.7/site-packages/gmso/core/angle.py\u001b[0m in \u001b[0;36m<module>\u001b[0;34m\u001b[0m\n\u001b[1;32m      4\u001b[0m \u001b[0;32mfrom\u001b[0m \u001b[0mpydantic\u001b[0m\u001b[0;34m.\u001b[0m\u001b[0mfields\u001b[0m \u001b[0;32mimport\u001b[0m \u001b[0mField\u001b[0m\u001b[0;34m\u001b[0m\u001b[0;34m\u001b[0m\u001b[0m\n\u001b[1;32m      5\u001b[0m \u001b[0;34m\u001b[0m\u001b[0m\n\u001b[0;32m----> 6\u001b[0;31m \u001b[0;32mfrom\u001b[0m \u001b[0mgmso\u001b[0m\u001b[0;34m.\u001b[0m\u001b[0mabc\u001b[0m\u001b[0;34m.\u001b[0m\u001b[0mabstract_connection\u001b[0m \u001b[0;32mimport\u001b[0m \u001b[0mConnection\u001b[0m\u001b[0;34m\u001b[0m\u001b[0;34m\u001b[0m\u001b[0m\n\u001b[0m\u001b[1;32m      7\u001b[0m \u001b[0;32mfrom\u001b[0m \u001b[0mgmso\u001b[0m\u001b[0;34m.\u001b[0m\u001b[0mcore\u001b[0m\u001b[0;34m.\u001b[0m\u001b[0mangle_type\u001b[0m \u001b[0;32mimport\u001b[0m \u001b[0mAngleType\u001b[0m\u001b[0;34m\u001b[0m\u001b[0;34m\u001b[0m\u001b[0m\n\u001b[1;32m      8\u001b[0m \u001b[0;32mfrom\u001b[0m \u001b[0mgmso\u001b[0m\u001b[0;34m.\u001b[0m\u001b[0mcore\u001b[0m\u001b[0;34m.\u001b[0m\u001b[0matom\u001b[0m \u001b[0;32mimport\u001b[0m \u001b[0mAtom\u001b[0m\u001b[0;34m\u001b[0m\u001b[0;34m\u001b[0m\u001b[0m\n",
      "\u001b[0;32m~/miniconda3/envs/cmeutils/lib/python3.7/site-packages/gmso/abc/abstract_connection.py\u001b[0m in \u001b[0;36m<module>\u001b[0;34m\u001b[0m\n\u001b[1;32m      4\u001b[0m \u001b[0;32mfrom\u001b[0m \u001b[0mpydantic\u001b[0m\u001b[0;34m.\u001b[0m\u001b[0mfields\u001b[0m \u001b[0;32mimport\u001b[0m \u001b[0mField\u001b[0m\u001b[0;34m\u001b[0m\u001b[0;34m\u001b[0m\u001b[0m\n\u001b[1;32m      5\u001b[0m \u001b[0;34m\u001b[0m\u001b[0m\n\u001b[0;32m----> 6\u001b[0;31m \u001b[0;32mfrom\u001b[0m \u001b[0mgmso\u001b[0m\u001b[0;34m.\u001b[0m\u001b[0mabc\u001b[0m\u001b[0;34m.\u001b[0m\u001b[0mabstract_site\u001b[0m \u001b[0;32mimport\u001b[0m \u001b[0mSite\u001b[0m\u001b[0;34m\u001b[0m\u001b[0;34m\u001b[0m\u001b[0m\n\u001b[0m\u001b[1;32m      7\u001b[0m \u001b[0;32mfrom\u001b[0m \u001b[0mgmso\u001b[0m\u001b[0;34m.\u001b[0m\u001b[0mabc\u001b[0m\u001b[0;34m.\u001b[0m\u001b[0mgmso_base\u001b[0m \u001b[0;32mimport\u001b[0m \u001b[0mGMSOBase\u001b[0m\u001b[0;34m\u001b[0m\u001b[0;34m\u001b[0m\u001b[0m\n\u001b[1;32m      8\u001b[0m \u001b[0;32mfrom\u001b[0m \u001b[0mgmso\u001b[0m\u001b[0;34m.\u001b[0m\u001b[0mexceptions\u001b[0m \u001b[0;32mimport\u001b[0m \u001b[0mGMSOError\u001b[0m\u001b[0;34m\u001b[0m\u001b[0;34m\u001b[0m\u001b[0m\n",
      "\u001b[0;32m~/miniconda3/envs/cmeutils/lib/python3.7/site-packages/gmso/abc/abstract_site.py\u001b[0m in \u001b[0;36m<module>\u001b[0;34m\u001b[0m\n\u001b[1;32m     23\u001b[0m \u001b[0;34m\u001b[0m\u001b[0m\n\u001b[1;32m     24\u001b[0m \u001b[0;34m\u001b[0m\u001b[0m\n\u001b[0;32m---> 25\u001b[0;31m \u001b[0;32mclass\u001b[0m \u001b[0mSite\u001b[0m\u001b[0;34m(\u001b[0m\u001b[0mGMSOBase\u001b[0m\u001b[0;34m)\u001b[0m\u001b[0;34m:\u001b[0m\u001b[0;34m\u001b[0m\u001b[0;34m\u001b[0m\u001b[0m\n\u001b[0m\u001b[1;32m     26\u001b[0m     __iterable_attributes__: ClassVar[set] = {\n\u001b[1;32m     27\u001b[0m         \u001b[0;34m\"label\"\u001b[0m\u001b[0;34m,\u001b[0m\u001b[0;34m\u001b[0m\u001b[0;34m\u001b[0m\u001b[0m\n",
      "\u001b[0;32m~/miniconda3/envs/cmeutils/lib/python3.7/site-packages/gmso/abc/abstract_site.py\u001b[0m in \u001b[0;36mSite\u001b[0;34m()\u001b[0m\n\u001b[1;32m     53\u001b[0m \u001b[0;34m\u001b[0m\u001b[0m\n\u001b[1;32m     54\u001b[0m     residue_number_: Optional[StrictInt] = Field(\n\u001b[0;32m---> 55\u001b[0;31m         \u001b[0;32mNone\u001b[0m\u001b[0;34m,\u001b[0m \u001b[0mdescription\u001b[0m\u001b[0;34m=\u001b[0m\u001b[0;34m\"Residue number for the site\"\u001b[0m\u001b[0;34m\u001b[0m\u001b[0;34m\u001b[0m\u001b[0m\n\u001b[0m\u001b[1;32m     56\u001b[0m     )\n\u001b[1;32m     57\u001b[0m \u001b[0;34m\u001b[0m\u001b[0m\n",
      "\u001b[0;31mNameError\u001b[0m: name 'StrictInt' is not defined"
     ]
    }
   ],
   "source": [
    "import mbuild as mb\n",
    "import foyer\n",
    "import itertools\n",
    "import math\n",
    "import gsd.hoomd\n",
    "import hoomd\n",
    "import numpy"
   ]
  },
  {
   "cell_type": "code",
   "execution_count": null,
   "id": "1f7da555",
   "metadata": {},
   "outputs": [],
   "source": [
    "class btoCompound(mb.Compound):\n",
    "    def __init__(self):\n",
    "        super(btoCompound, self).__init__()\n",
    "        particle_A1 = mb.Particle(name=\"_A1\", pos=[0.0031, 0.2626, 0.0003])\n",
    "        particle_A2 = mb.Particle(name=\"_A2\", pos=[0.0031, 0.2626, 0.0003])\n",
    "        particle_D = mb.Particle(name=\"_D\", pos=[-0.4315,  0.0013,  0.0011])\n",
    "        particle_ss = mb.Particle(name=\"_S_S\", pos=[-0.4315,  0.0013,  0.0011])\n",
    "        particle_sl1 = mb.Particle(name=\"_S_L1\", pos=[-0.4315,  0.0013,  0.0011])\n",
    "        particle_sl2 = mb.Particle(name=\"_S_L2\", pos=[1.0043, 1.0826, 0.1417])\n",
    "        self.add(particle_A1)\n",
    "        self.add(particle_A2)\n",
    "        self.add(particle_D)\n",
    "        self.add(particle_ss)\n",
    "        self.add(particle_sl1)\n",
    "        self.add(particle_sl2)\n",
    "        self.add_bond((self[0], self[2]))\n",
    "        self.add_bond((self[0], self[2]))\n",
    "        \n",
    "\n",
    "bto_compound = btoCompound()\n",
    "bto_compound.visualize()\n",
    "box_bto = mb.fill_box(compound=bto_compound, n_compounds=5, box=[1000, 1000, 1000])"
   ]
  },
  {
   "cell_type": "code",
   "execution_count": null,
   "id": "027bf970",
   "metadata": {},
   "outputs": [],
   "source": [
    "foyer_forcefield = foyer.Forcefield(\"y6_forcefields.xml\")"
   ]
  },
  {
   "cell_type": "code",
   "execution_count": null,
   "id": "4eff41a2",
   "metadata": {},
   "outputs": [],
   "source": [
    "typed_y6 = foyer_forcefield.apply(box_y6, verbose=False)"
   ]
  },
  {
   "cell_type": "code",
   "execution_count": null,
   "id": "fb079ed7",
   "metadata": {},
   "outputs": [],
   "source": [
    "from mbuild.formats.hoomd_forcefield import create_hoomd_forcefield"
   ]
  },
  {
   "cell_type": "code",
   "execution_count": null,
   "id": "b0e174cf",
   "metadata": {},
   "outputs": [],
   "source": [
    "snapshot, forcefield, refs = create_hoomd_forcefield(\n",
    "    typed_y6,\n",
    "    auto_scale=True,\n",
    "    r_cut=2.5\n",
    ")"
   ]
  },
  {
   "cell_type": "code",
   "execution_count": null,
   "id": "5c6db0da",
   "metadata": {},
   "outputs": [],
   "source": [
    "refs"
   ]
  },
  {
   "cell_type": "code",
   "execution_count": null,
   "id": "7a986bde",
   "metadata": {},
   "outputs": [],
   "source": [
    "cpu = hoomd.device.CPU()\n",
    "sim = hoomd.Simulation(device=cpu, seed=1,)"
   ]
  },
  {
   "cell_type": "code",
   "execution_count": null,
   "id": "2ccf79f2",
   "metadata": {},
   "outputs": [],
   "source": [
    "sim.create_state_from_snapshot(snapshot)"
   ]
  },
  {
   "cell_type": "code",
   "execution_count": null,
   "id": "a7f4d72b",
   "metadata": {},
   "outputs": [],
   "source": [
    "sim.state.box"
   ]
  },
  {
   "cell_type": "code",
   "execution_count": null,
   "id": "2291b5fc",
   "metadata": {},
   "outputs": [],
   "source": [
    "for i in forcefield:\n",
    "    print(i)"
   ]
  },
  {
   "cell_type": "code",
   "execution_count": null,
   "id": "36c7bfe3",
   "metadata": {},
   "outputs": [],
   "source": [
    "type(forcefield)"
   ]
  },
  {
   "cell_type": "markdown",
   "id": "201cff9e",
   "metadata": {},
   "source": [
    "### build integrator"
   ]
  },
  {
   "cell_type": "code",
   "execution_count": null,
   "id": "e26db604",
   "metadata": {},
   "outputs": [],
   "source": [
    "bonds_k = 3.\n",
    "angle_k = 3.\n",
    "dihedral_k = 3.\n",
    "\n",
    "epsilon = 1\n",
    "sigma = 1\n",
    "r_cut = 2.5\n",
    "KT = 1.5"
   ]
  },
  {
   "cell_type": "code",
   "execution_count": null,
   "id": "7775857f",
   "metadata": {},
   "outputs": [],
   "source": [
    "integrator = hoomd.md.Integrator(dt=0.005)\n",
    "# cell = hoomd.md.nlist.Cell(buffer=0.4)\n",
    "# # Bonds\n",
    "# harmonic = hoomd.md.bond.Harmonic()\n",
    "# harmonic.params['_A1-_D'] = dict(k=bonds_k, r0=5.070)\n",
    "# harmonic.params['_A2-_D'] = dict(k=bonds_k, r0=7.1084)\n",
    "# harmonic.params['_D-_SL1'] = dict(k=bonds_k, r0=5.679)\n",
    "# harmonic.params['_D-_SS'] = dict(k=bonds_k, r0=5.295)\n",
    "# harmonic.params['_SL1-_SL2'] = dict(k=bonds_k, r0=6.916)\n",
    "# integrator.forces.append(harmonic)\n",
    "\n",
    "# # Angles\n",
    "# harmonic_angle = hoomd.md.angle.Harmonic()\n",
    "# harmonic_angle.params['_D-_A1-_D'] = dict(k=angle_k, t0=2.053) # angle=117 degree\n",
    "# harmonic_angle.params['_SL1-_D-_A'] = dict(k=angle_k, t0=1.738) # angle=99.5 degree\n",
    "# harmonic_angle.params['_A1-_D-_SS'] = dict(k=angle_k, t0=1.356) # angle=77.2 degree\n",
    "# harmonic_angle.params['_D-_SL1-_SL2'] = dict(k=angle_k, t0=2.719) \n",
    "# harmonic_angle.params['_SS-_D-_A2'] = dict(k=angle_k, t0=1.659)\n",
    "# harmonic_angle.params['_A2-_D-_SS'] = dict(k=angle_k, t0=1.659)\n",
    "# harmonic_angle.params['_A1-_D-_A2'] = dict(k=angle_k, t0=2.96)\n",
    "# harmonic_angle.params['_A1-_D-_SL1'] = dict(k=angle_k, t0=1.73)\n",
    "# harmonic_angle.params['_A2-_D-_SL1'] = dict(k=angle_k, t0=1.73)\n",
    "# harmonic_angle.params['_SS-_D-_SL1'] = dict(k=angle_k, t0=2.532) \n",
    "# harmonic_angle.params['_SL1-_D-_SS'] = dict(k=angle_k, t0=2.532) \n",
    "# integrator.forces.append(harmonic_angle)\n",
    "# # Dihedrals\n",
    "# harmonic_dihedrals = hoomd.md.dihedral.Harmonic()\n",
    "# harmonic_dihedrals.params['_D-_A1-_D-_SL1'] = dict(k=dihedral_k, d=-1, n=3, phi0=-3.039)\n",
    "# harmonic_dihedrals.params['_A1-_D-_SL1-_SL2'] = dict(k=dihedral_k, d=-1, n=3, phi0=0.0668)\n",
    "# harmonic_dihedrals.params['_D-_A1-_D-_A2'] = dict(k=dihedral_k, d=-1, n=3, phi0=0.402)\n",
    "# harmonic_dihedrals.params['_D-_A1-_D-_SS'] = dict(k=dihedral_k, d=-1, n=3, phi0=0.710)\n",
    "# harmonic_dihedrals.params['_A2-_D-_SL1-_SL2'] = dict(k=dihedral_k, d=-1, n=3, phi0=-3.127)\n",
    "# harmonic_dihedrals.params['_SS-_D-_SL1-_SL2'] = dict(k=dihedral_k, d=-1, n=3, phi0=1.502)\n",
    "# integrator.forces.append(harmonic_dihedrals)\n",
    "# # LJ potentials\n",
    "# lj = hoomd.md.pair.LJ(nlist=cell)\n",
    "# lj.params[('_A1', '_A1')] = dict(epsilon=epsilon, sigma=sigma)\n",
    "# lj.r_cut[('_A1', '_A1')] = r_cut\n",
    "# lj.params[('_A1', '_A2')] = dict(epsilon=epsilon, sigma=sigma)\n",
    "# lj.r_cut[('_A1', '_A2')] = r_cut\n",
    "# lj.params[('_A1', '_D')] = dict(epsilon=epsilon, sigma=sigma)\n",
    "# lj.r_cut[('_A1', '_D')] = r_cut\n",
    "# lj.params[('_A1', '_SS')] = dict(epsilon=epsilon, sigma=sigma)\n",
    "# lj.r_cut[('_A1', '_SS')] = r_cut\n",
    "# lj.params[('_A1', '_SL1')] = dict(epsilon=epsilon, sigma=sigma)\n",
    "# lj.r_cut[('_A1', '_SL1')] = r_cut\n",
    "# lj.params[('_A1', '_SL2')] = dict(epsilon=epsilon, sigma=sigma)\n",
    "# lj.r_cut[('_A1', '_SL2')] = r_cut\n",
    "\n",
    "# lj.params[('_A2', '_A2')] = dict(epsilon=epsilon, sigma=sigma)\n",
    "# lj.r_cut[('_A2', '_A2')] = r_cut\n",
    "# lj.params[('_A2', '_D')] = dict(epsilon=epsilon, sigma=sigma)\n",
    "# lj.r_cut[('_A2', '_D')] = r_cut\n",
    "# lj.params[('_A2', '_SS')] = dict(epsilon=epsilon, sigma=sigma)\n",
    "# lj.r_cut[('_A2', '_SS')] = r_cut\n",
    "# lj.params[('_A2', '_SL1')] = dict(epsilon=epsilon, sigma=sigma)\n",
    "# lj.r_cut[('_A2', '_SL1')] = r_cut\n",
    "# lj.params[('_A2', '_SL2')] = dict(epsilon=epsilon, sigma=sigma)\n",
    "# lj.r_cut[('_A2', '_SL2')] = r_cut\n",
    "\n",
    "# lj.params[('_D', '_D')] = dict(epsilon=epsilon, sigma=sigma)\n",
    "# lj.r_cut[('_D', '_D')] = r_cut\n",
    "# lj.params[('_D', '_SS')] = dict(epsilon=epsilon, sigma=sigma)\n",
    "# lj.r_cut[('_D', '_SS')] = r_cut\n",
    "# lj.params[('_D', '_SL1')] = dict(epsilon=epsilon, sigma=sigma)\n",
    "# lj.r_cut[('_D', '_SL1')] = r_cut\n",
    "# lj.params[('_D', '_SL2')] = dict(epsilon=epsilon, sigma=sigma)\n",
    "# lj.r_cut[('_D', '_SL2')] = r_cut\n",
    "\n",
    "# lj.params[('_SS', '_SS')] = dict(epsilon=epsilon, sigma=sigma)\n",
    "# lj.r_cut[('_SS', '_SS')] = r_cut\n",
    "# lj.params[('_SS', '_SL1')] = dict(epsilon=epsilon, sigma=sigma)\n",
    "# lj.r_cut[('_SS', '_SL1')] = r_cut\n",
    "# lj.params[('SS', '_SL2')] = dict(epsilon=epsilon, sigma=sigma)\n",
    "# lj.r_cut[('_SS', '_SL2')] = r_cut\n",
    "\n",
    "# lj.params[('_SL1', '_SL1')] = dict(epsilon=epsilon, sigma=sigma)\n",
    "# lj.r_cut[('_SL1', '_SL1')] = r_cut\n",
    "# lj.params[('_SL1', '_SL2')] = dict(epsilon=epsilon, sigma=sigma)\n",
    "# lj.r_cut[('_SL1', '_SL2')] = r_cut\n",
    "\n",
    "# lj.params[('_SL2', '_SL2')] = dict(epsilon=epsilon, sigma=sigma)\n",
    "# lj.r_cut[('_SL2', '_SL2')] = r_cut\n",
    "# lj.params[('_SL2', '_SS')] = dict(epsilon=epsilon, sigma=sigma)\n",
    "# lj.r_cut[('_SL2', '_SS')] = r_cut\n",
    "# integrator.forces.append(lj)\n",
    "integrator.forces.extend(forcefield)\n",
    "# NVT\n",
    "nvt = hoomd.md.methods.NVT(kT=KT, filter=hoomd.filter.All(), tau=1.0)\n",
    "integrator.methods.append(nvt)\n",
    "sim.operations.integrator = integrator"
   ]
  },
  {
   "cell_type": "markdown",
   "id": "bfb65f4d",
   "metadata": {},
   "source": [
    "## Box Compressor"
   ]
  },
  {
   "cell_type": "code",
   "execution_count": null,
   "id": "e6a9bd10",
   "metadata": {},
   "outputs": [],
   "source": [
    "rho = sim.state.N_particles / sim.state.box.volume\n",
    "rho"
   ]
  },
  {
   "cell_type": "code",
   "execution_count": null,
   "id": "cbbfa153",
   "metadata": {},
   "outputs": [],
   "source": [
    "initial_box = sim.state.box\n",
    "final_box = hoomd.Box.from_box(initial_box)  # make a copy of initial_box\n",
    "final_rho = 1.2\n",
    "final_box.volume = sim.state.N_particles / final_rho"
   ]
  },
  {
   "cell_type": "code",
   "execution_count": null,
   "id": "9225bf6c",
   "metadata": {},
   "outputs": [],
   "source": [
    "initial_box"
   ]
  },
  {
   "cell_type": "code",
   "execution_count": null,
   "id": "0ffd14de",
   "metadata": {},
   "outputs": [],
   "source": [
    "final_box"
   ]
  },
  {
   "cell_type": "code",
   "execution_count": null,
   "id": "590fc9fe",
   "metadata": {},
   "outputs": [],
   "source": [
    "ramp = hoomd.variant.Ramp(A=0, B=1, t_start=sim.timestep, t_ramp=20000)"
   ]
  },
  {
   "cell_type": "code",
   "execution_count": null,
   "id": "697fba40",
   "metadata": {},
   "outputs": [],
   "source": [
    "box_resizer = hoomd.update.BoxResize(trigger=hoomd.trigger.Periodic(100),\n",
    "                                    box1=initial_box,\n",
    "                                    box2=final_box,\n",
    "                                    variant=ramp)"
   ]
  },
  {
   "cell_type": "code",
   "execution_count": null,
   "id": "6a731014",
   "metadata": {},
   "outputs": [],
   "source": [
    "sim.operations.updaters.append(box_resizer)"
   ]
  },
  {
   "cell_type": "code",
   "execution_count": null,
   "id": "0d483c60",
   "metadata": {},
   "outputs": [],
   "source": [
    "sim.state.thermalize_particle_momenta(filter=hoomd.filter.All(), kT=KT)\n",
    "thermodynamic_properties = hoomd.md.compute.ThermodynamicQuantities(\n",
    "    filter=hoomd.filter.All())\n",
    "sim.operations.computes.append(thermodynamic_properties)\n",
    "sim.run(0)"
   ]
  },
  {
   "cell_type": "code",
   "execution_count": null,
   "id": "57d06bd0",
   "metadata": {},
   "outputs": [],
   "source": [
    "sim.state.box"
   ]
  },
  {
   "cell_type": "code",
   "execution_count": null,
   "id": "adfd8901",
   "metadata": {},
   "outputs": [],
   "source": [
    "logger = hoomd.logging.Logger()\n",
    "logger.add(thermodynamic_properties, quantities=[\"potential_energy\",\"kinetic_energy\", \"kinetic_temperature\", \"pressure\"])\n",
    "logger.add(harmonic, quantities=[\"energy\"])\n",
    "logger.add(lj, quantities=[\"energy\"])\n",
    "logger.add(harmonic_angle, quantities=[\"energy\"])\n",
    "logger.add(harmonic_dihedrals, quantities=[\"energy\"])\n",
    "gsd_writer = hoomd.write.GSD(filename='data/logs_angle_dihedral-may4/log_Y6_n100_L10_s600k_k100_T1.5.gsd',\n",
    "                             trigger=hoomd.trigger.Periodic(1000),\n",
    "                             mode='xb',\n",
    "                             filter=hoomd.filter.All())\n",
    "sim.operations.writers.append(gsd_writer)\n",
    "gsd_writer.log = logger"
   ]
  },
  {
   "cell_type": "code",
   "execution_count": null,
   "id": "6eb3e05e",
   "metadata": {},
   "outputs": [],
   "source": [
    "sim.run(6e5)"
   ]
  },
  {
   "cell_type": "code",
   "execution_count": null,
   "id": "ec052d5b",
   "metadata": {},
   "outputs": [],
   "source": [
    "sim.state.box"
   ]
  },
  {
   "cell_type": "code",
   "execution_count": null,
   "id": "7c3b4400",
   "metadata": {},
   "outputs": [],
   "source": []
  }
 ],
 "metadata": {
  "kernelspec": {
   "display_name": "Python 3 (ipykernel)",
   "language": "python",
   "name": "python3"
  },
  "language_info": {
   "codemirror_mode": {
    "name": "ipython",
    "version": 3
   },
   "file_extension": ".py",
   "mimetype": "text/x-python",
   "name": "python",
   "nbconvert_exporter": "python",
   "pygments_lexer": "ipython3",
   "version": "3.8.13"
  }
 },
 "nbformat": 4,
 "nbformat_minor": 5
}
