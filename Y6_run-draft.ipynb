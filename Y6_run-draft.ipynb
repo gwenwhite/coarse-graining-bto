{
 "cells": [
  {
   "cell_type": "code",
   "execution_count": 1,
   "id": "06cf290f",
   "metadata": {},
   "outputs": [
    {
     "name": "stderr",
     "output_type": "stream",
     "text": [
      "Warning: importing 'simtk.openmm' is deprecated.  Import 'openmm' instead.\n"
     ]
    }
   ],
   "source": [
    "import mbuild as mb\n",
    "import itertools\n",
    "import math\n",
    "\n",
    "import gsd.hoomd\n",
    "import hoomd\n",
    "import numpy\n",
    "import foyer"
   ]
  },
  {
   "cell_type": "code",
   "execution_count": 2,
   "id": "1f7da555",
   "metadata": {},
   "outputs": [
    {
     "name": "stderr",
     "output_type": "stream",
     "text": [
      "/home/marjanalbooyeh/anaconda3/envs/hoomd-ex/lib/python3.10/site-packages/mbuild/conversion.py:1747: UserWarning: No element attribute associated with '<_A1 pos=([0. 0. 0.]), 0 bonds, id: 139854022319008>'; and no matching elements found based upon the compound name. Setting atomic number to zero.\n",
      "  warn(warn_msg)\n",
      "/home/marjanalbooyeh/anaconda3/envs/hoomd-ex/lib/python3.10/site-packages/mbuild/conversion.py:1747: UserWarning: No element attribute associated with '<_D pos=([ 0.6 -0.4  0. ]), 0 bonds, id: 139854022318720>'; and no matching elements found based upon the compound name. Setting atomic number to zero.\n",
      "  warn(warn_msg)\n",
      "/home/marjanalbooyeh/anaconda3/envs/hoomd-ex/lib/python3.10/site-packages/mbuild/conversion.py:1747: UserWarning: No element attribute associated with '<_A2 pos=([ 1.  -1.2  0. ]), 0 bonds, id: 139854022318336>'; and no matching elements found based upon the compound name. Setting atomic number to zero.\n",
      "  warn(warn_msg)\n",
      "/home/marjanalbooyeh/anaconda3/envs/hoomd-ex/lib/python3.10/site-packages/mbuild/conversion.py:1747: UserWarning: No element attribute associated with '<_SS pos=([ 0.4 -0.4  0.4]), 0 bonds, id: 139854022318048>'; and no matching elements found based upon the compound name. Setting atomic number to zero.\n",
      "  warn(warn_msg)\n",
      "/home/marjanalbooyeh/anaconda3/envs/hoomd-ex/lib/python3.10/site-packages/mbuild/conversion.py:1747: UserWarning: No element attribute associated with '<_SL1 pos=([1.1  0.02 0.  ]), 0 bonds, id: 139854022317760>'; and no matching elements found based upon the compound name. Setting atomic number to zero.\n",
      "  warn(warn_msg)\n",
      "/home/marjanalbooyeh/anaconda3/envs/hoomd-ex/lib/python3.10/site-packages/mbuild/conversion.py:1747: UserWarning: No element attribute associated with '<_SL2 pos=([1.2 0.6 0. ]), 0 bonds, id: 139854022317472>'; and no matching elements found based upon the compound name. Setting atomic number to zero.\n",
      "  warn(warn_msg)\n",
      "/home/marjanalbooyeh/anaconda3/envs/hoomd-ex/lib/python3.10/site-packages/mbuild/formats/xyz.py:68: UserWarning: No matching element found for EP; the particle will be added to the compound without an element attribute.\n",
      "  warn(\n"
     ]
    }
   ],
   "source": [
    "class Y6Compound(mb.Compound):\n",
    "    def __init__(self):\n",
    "        super(Y6Compound, self).__init__()\n",
    "        particle_A1 = mb.Particle(name=\"_A1\", pos=[0, 0, 0])\n",
    "        particle_D1 = mb.Particle(name=\"_D\", pos=[0.6, -0.4, 0])\n",
    "        particle_D2 = mb.Particle(name=\"_D\", pos=[-0.6, -0.4, 0])\n",
    "        particle_A21 = mb.Particle(name=\"_A2\", pos=[1, -1.2, 0])\n",
    "        particle_A22 = mb.Particle(name=\"_A2\", pos=[-1, -1.2, 0])\n",
    "        particle_ss1 = mb.Particle(name=\"_SS\", pos=[0.4, -0.4, 0.4])\n",
    "        particle_ss2 = mb.Particle(name=\"_SS\", pos=[-0.4, -0.4, -0.4])\n",
    "        particle_sl11 = mb.Particle(name=\"_SL1\", pos=[1.1, 0.02, 0])\n",
    "        particle_sl12 = mb.Particle(name=\"_SL1\", pos=[-1.1, 0.02, 0])\n",
    "        particle_sl21 = mb.Particle(name=\"_SL2\", pos=[1.2, 0.6, 0])\n",
    "        particle_sl22 = mb.Particle(name=\"_SL2\", pos=[-1.2, 0.6, 0])\n",
    "        self.add(particle_A1)\n",
    "        self.add(particle_D1)\n",
    "        self.add(particle_D2)\n",
    "        self.add(particle_A21)\n",
    "        self.add(particle_A22)\n",
    "        self.add(particle_ss1)\n",
    "        self.add(particle_ss2)\n",
    "        self.add(particle_sl11)\n",
    "        self.add(particle_sl12)\n",
    "        self.add(particle_sl21)\n",
    "        self.add(particle_sl22)\n",
    "        self.add_bond((self[0], self[1]))\n",
    "        self.add_bond((self[0], self[2]))\n",
    "        self.add_bond((self[1], self[3]))\n",
    "        self.add_bond((self[2], self[4]))\n",
    "        self.add_bond((self[1], self[5]))\n",
    "        self.add_bond((self[2], self[6]))\n",
    "        self.add_bond((self[1], self[7]))\n",
    "        self.add_bond((self[2], self[8]))\n",
    "        self.add_bond((self[7], self[9]))\n",
    "        self.add_bond((self[8], self[10]))\n",
    "        \n",
    "\n",
    "Y6_compound = Y6Compound()   \n",
    "box_y6 = mb.fill_box(compound=Y6_compound, n_compounds=5, box=[1000, 1000, 1000])"
   ]
  },
  {
   "cell_type": "code",
   "execution_count": null,
   "id": "f747652f",
   "metadata": {},
   "outputs": [],
   "source": []
  },
  {
   "cell_type": "code",
   "execution_count": 3,
   "id": "027bf970",
   "metadata": {},
   "outputs": [
    {
     "name": "stderr",
     "output_type": "stream",
     "text": [
      "/home/marjanalbooyeh/anaconda3/envs/hoomd-ex/lib/python3.10/site-packages/foyer/forcefield.py:665: UserWarning: Non-atomistic element type detected. Creating custom element for _A1\n",
      "  warnings.warn(\n",
      "/home/marjanalbooyeh/anaconda3/envs/hoomd-ex/lib/python3.10/site-packages/foyer/forcefield.py:665: UserWarning: Non-atomistic element type detected. Creating custom element for _D\n",
      "  warnings.warn(\n",
      "/home/marjanalbooyeh/anaconda3/envs/hoomd-ex/lib/python3.10/site-packages/foyer/forcefield.py:665: UserWarning: Non-atomistic element type detected. Creating custom element for _A2\n",
      "  warnings.warn(\n",
      "/home/marjanalbooyeh/anaconda3/envs/hoomd-ex/lib/python3.10/site-packages/foyer/forcefield.py:665: UserWarning: Non-atomistic element type detected. Creating custom element for _SS\n",
      "  warnings.warn(\n",
      "/home/marjanalbooyeh/anaconda3/envs/hoomd-ex/lib/python3.10/site-packages/foyer/forcefield.py:665: UserWarning: Non-atomistic element type detected. Creating custom element for _SL1\n",
      "  warnings.warn(\n",
      "/home/marjanalbooyeh/anaconda3/envs/hoomd-ex/lib/python3.10/site-packages/foyer/forcefield.py:665: UserWarning: Non-atomistic element type detected. Creating custom element for _SL2\n",
      "  warnings.warn(\n",
      "/home/marjanalbooyeh/anaconda3/envs/hoomd-ex/lib/python3.10/site-packages/foyer/forcefield.py:629: UserWarning: No force field version number found in force field XML file.\n",
      "  warnings.warn(\n",
      "/home/marjanalbooyeh/anaconda3/envs/hoomd-ex/lib/python3.10/site-packages/foyer/forcefield.py:641: UserWarning: No force field name found in force field XML file.\n",
      "  warnings.warn(\n",
      "/home/marjanalbooyeh/anaconda3/envs/hoomd-ex/lib/python3.10/site-packages/foyer/forcefield.py:653: UserWarning: No combining rule found in force field XML file.\n",
      "  warnings.warn(\n"
     ]
    }
   ],
   "source": [
    "foyer_forcefield = foyer.Forcefield(\"y6_forcefields.xml\")"
   ]
  },
  {
   "cell_type": "code",
   "execution_count": 4,
   "id": "4eff41a2",
   "metadata": {},
   "outputs": [
    {
     "name": "stderr",
     "output_type": "stream",
     "text": [
      "/home/marjanalbooyeh/anaconda3/envs/hoomd-ex/lib/python3.10/site-packages/mbuild/conversion.py:1747: UserWarning: No element attribute associated with '<_A1 pos=([60.5307 41.8991 56.7304]), 0 bonds, id: 139854022359888>'; and no matching elements found based upon the compound name. Setting atomic number to zero.\n",
      "  warn(warn_msg)\n",
      "/home/marjanalbooyeh/anaconda3/envs/hoomd-ex/lib/python3.10/site-packages/mbuild/conversion.py:1747: UserWarning: No element attribute associated with '<_D pos=([60.5233 41.768  57.4394]), 0 bonds, id: 139854022353888>'; and no matching elements found based upon the compound name. Setting atomic number to zero.\n",
      "  warn(warn_msg)\n",
      "/home/marjanalbooyeh/anaconda3/envs/hoomd-ex/lib/python3.10/site-packages/mbuild/conversion.py:1747: UserWarning: No element attribute associated with '<_A2 pos=([60.0723 41.6016 58.1937]), 0 bonds, id: 139854022358880>'; and no matching elements found based upon the compound name. Setting atomic number to zero.\n",
      "  warn(warn_msg)\n",
      "/home/marjanalbooyeh/anaconda3/envs/hoomd-ex/lib/python3.10/site-packages/mbuild/conversion.py:1747: UserWarning: No element attribute associated with '<_SS pos=([60.3903 42.1846 57.3458]), 0 bonds, id: 139854022359168>'; and no matching elements found based upon the compound name. Setting atomic number to zero.\n",
      "  warn(warn_msg)\n",
      "/home/marjanalbooyeh/anaconda3/envs/hoomd-ex/lib/python3.10/site-packages/mbuild/conversion.py:1747: UserWarning: No element attribute associated with '<_SL1 pos=([61.147  41.7704 57.6326]), 0 bonds, id: 139854022358832>'; and no matching elements found based upon the compound name. Setting atomic number to zero.\n",
      "  warn(warn_msg)\n",
      "/home/marjanalbooyeh/anaconda3/envs/hoomd-ex/lib/python3.10/site-packages/mbuild/conversion.py:1747: UserWarning: No element attribute associated with '<_SL2 pos=([61.6865 41.8444 57.4094]), 0 bonds, id: 139854022360176>'; and no matching elements found based upon the compound name. Setting atomic number to zero.\n",
      "  warn(warn_msg)\n",
      "/home/marjanalbooyeh/anaconda3/envs/hoomd-ex/lib/python3.10/site-packages/foyer/forcefield.py:349: UserWarning: Parameters have not been assigned to all impropers. Total system impropers: 40, Parameterized impropers: 0. Note that if your system contains torsions of Ryckaert-Bellemans functional form, all of these torsions are processed as propers\n",
      "  warnings.warn(msg)\n"
     ]
    }
   ],
   "source": [
    "typed_y6 = foyer_forcefield.apply(box_y6, verbose=False)"
   ]
  },
  {
   "cell_type": "code",
   "execution_count": 5,
   "id": "fb079ed7",
   "metadata": {},
   "outputs": [],
   "source": [
    "from mbuild.formats.hoomd_forcefield import create_hoomd_forcefield"
   ]
  },
  {
   "cell_type": "code",
   "execution_count": 6,
   "id": "b0e174cf",
   "metadata": {},
   "outputs": [
    {
     "name": "stdout",
     "output_type": "stream",
     "text": [
      "Processing LJ and QQ\n",
      "No charged groups found, ignoring electrostatics\n",
      "Processing harmonic bonds\n",
      "Processing harmonic angles\n",
      "Processing periodic torsions\n"
     ]
    }
   ],
   "source": [
    "snapshot, forcefield, refs = create_hoomd_forcefield(\n",
    "    typed_y6,\n",
    "    auto_scale=True,\n",
    "    r_cut=2.5\n",
    ")"
   ]
  },
  {
   "cell_type": "code",
   "execution_count": 7,
   "id": "5c6db0da",
   "metadata": {},
   "outputs": [
    {
     "data": {
      "text/plain": [
       "ref_values(distance=3.3996695084235347, mass=12.01, energy=0.2104)"
      ]
     },
     "execution_count": 7,
     "metadata": {},
     "output_type": "execute_result"
    }
   ],
   "source": [
    "refs"
   ]
  },
  {
   "cell_type": "code",
   "execution_count": 8,
   "id": "7a986bde",
   "metadata": {},
   "outputs": [],
   "source": [
    "cpu = hoomd.device.CPU()\n",
    "sim = hoomd.Simulation(device=cpu, seed=1,)"
   ]
  },
  {
   "cell_type": "code",
   "execution_count": 9,
   "id": "2ccf79f2",
   "metadata": {},
   "outputs": [],
   "source": [
    "sim.create_state_from_snapshot(snapshot)"
   ]
  },
  {
   "cell_type": "code",
   "execution_count": 10,
   "id": "a7f4d72b",
   "metadata": {},
   "outputs": [
    {
     "data": {
      "text/plain": [
       "hoomd.box.Box(Lx=2941.462390747833, Ly=2941.462390747833, Lz=2941.462390747833, xy=0.0, xz=0.0, yz=0.0)"
      ]
     },
     "execution_count": 10,
     "metadata": {},
     "output_type": "execute_result"
    }
   ],
   "source": [
    "sim.state.box"
   ]
  },
  {
   "cell_type": "code",
   "execution_count": 11,
   "id": "2291b5fc",
   "metadata": {},
   "outputs": [
    {
     "name": "stdout",
     "output_type": "stream",
     "text": [
      "<hoomd.md.pair.pair.LJ object at 0x7f3244ce84c0>\n",
      "<hoomd.md.bond.Harmonic object at 0x7f3244ddda20>\n",
      "<hoomd.md.angle.Harmonic object at 0x7f3244cb70a0>\n",
      "<hoomd.md.dihedral.Harmonic object at 0x7f3244cb6bf0>\n"
     ]
    }
   ],
   "source": [
    "for i in forcefield:\n",
    "    print(i)"
   ]
  },
  {
   "cell_type": "code",
   "execution_count": 12,
   "id": "36c7bfe3",
   "metadata": {},
   "outputs": [
    {
     "data": {
      "text/plain": [
       "list"
      ]
     },
     "execution_count": 12,
     "metadata": {},
     "output_type": "execute_result"
    }
   ],
   "source": [
    "type(forcefield)"
   ]
  },
  {
   "cell_type": "markdown",
   "id": "201cff9e",
   "metadata": {},
   "source": [
    "### build integrator"
   ]
  },
  {
   "cell_type": "code",
   "execution_count": 13,
   "id": "e26db604",
   "metadata": {},
   "outputs": [],
   "source": [
    "bonds_k = 3.\n",
    "angle_k = 3.\n",
    "dihedral_k = 3.\n",
    "\n",
    "epsilon = 1\n",
    "sigma = 1\n",
    "r_cut = 2.5\n",
    "KT = 1.5"
   ]
  },
  {
   "cell_type": "code",
   "execution_count": 14,
   "id": "7775857f",
   "metadata": {},
   "outputs": [],
   "source": [
    "integrator = hoomd.md.Integrator(dt=0.005)\n",
    "# cell = hoomd.md.nlist.Cell(buffer=0.4)\n",
    "# # Bonds\n",
    "# harmonic = hoomd.md.bond.Harmonic()\n",
    "# harmonic.params['_A1-_D'] = dict(k=bonds_k, r0=5.070)\n",
    "# harmonic.params['_A2-_D'] = dict(k=bonds_k, r0=7.1084)\n",
    "# harmonic.params['_D-_SL1'] = dict(k=bonds_k, r0=5.679)\n",
    "# harmonic.params['_D-_SS'] = dict(k=bonds_k, r0=5.295)\n",
    "# harmonic.params['_SL1-_SL2'] = dict(k=bonds_k, r0=6.916)\n",
    "# integrator.forces.append(harmonic)\n",
    "\n",
    "# # Angles\n",
    "# harmonic_angle = hoomd.md.angle.Harmonic()\n",
    "# harmonic_angle.params['_D-_A1-_D'] = dict(k=angle_k, t0=2.053) # angle=117 degree\n",
    "# harmonic_angle.params['_SL1-_D-_A'] = dict(k=angle_k, t0=1.738) # angle=99.5 degree\n",
    "# harmonic_angle.params['_A1-_D-_SS'] = dict(k=angle_k, t0=1.356) # angle=77.2 degree\n",
    "# harmonic_angle.params['_D-_SL1-_SL2'] = dict(k=angle_k, t0=2.719) \n",
    "# harmonic_angle.params['_SS-_D-_A2'] = dict(k=angle_k, t0=1.659)\n",
    "# harmonic_angle.params['_A2-_D-_SS'] = dict(k=angle_k, t0=1.659)\n",
    "# harmonic_angle.params['_A1-_D-_A2'] = dict(k=angle_k, t0=2.96)\n",
    "# harmonic_angle.params['_A1-_D-_SL1'] = dict(k=angle_k, t0=1.73)\n",
    "# harmonic_angle.params['_A2-_D-_SL1'] = dict(k=angle_k, t0=1.73)\n",
    "# harmonic_angle.params['_SS-_D-_SL1'] = dict(k=angle_k, t0=2.532) \n",
    "# harmonic_angle.params['_SL1-_D-_SS'] = dict(k=angle_k, t0=2.532) \n",
    "# integrator.forces.append(harmonic_angle)\n",
    "# # Dihedrals\n",
    "# harmonic_dihedrals = hoomd.md.dihedral.Harmonic()\n",
    "# harmonic_dihedrals.params['_D-_A1-_D-_SL1'] = dict(k=dihedral_k, d=-1, n=3, phi0=-3.039)\n",
    "# harmonic_dihedrals.params['_A1-_D-_SL1-_SL2'] = dict(k=dihedral_k, d=-1, n=3, phi0=0.0668)\n",
    "# harmonic_dihedrals.params['_D-_A1-_D-_A2'] = dict(k=dihedral_k, d=-1, n=3, phi0=0.402)\n",
    "# harmonic_dihedrals.params['_D-_A1-_D-_SS'] = dict(k=dihedral_k, d=-1, n=3, phi0=0.710)\n",
    "# harmonic_dihedrals.params['_A2-_D-_SL1-_SL2'] = dict(k=dihedral_k, d=-1, n=3, phi0=-3.127)\n",
    "# harmonic_dihedrals.params['_SS-_D-_SL1-_SL2'] = dict(k=dihedral_k, d=-1, n=3, phi0=1.502)\n",
    "# integrator.forces.append(harmonic_dihedrals)\n",
    "# # LJ potentials\n",
    "# lj = hoomd.md.pair.LJ(nlist=cell)\n",
    "# lj.params[('_A1', '_A1')] = dict(epsilon=epsilon, sigma=sigma)\n",
    "# lj.r_cut[('_A1', '_A1')] = r_cut\n",
    "# lj.params[('_A1', '_A2')] = dict(epsilon=epsilon, sigma=sigma)\n",
    "# lj.r_cut[('_A1', '_A2')] = r_cut\n",
    "# lj.params[('_A1', '_D')] = dict(epsilon=epsilon, sigma=sigma)\n",
    "# lj.r_cut[('_A1', '_D')] = r_cut\n",
    "# lj.params[('_A1', '_SS')] = dict(epsilon=epsilon, sigma=sigma)\n",
    "# lj.r_cut[('_A1', '_SS')] = r_cut\n",
    "# lj.params[('_A1', '_SL1')] = dict(epsilon=epsilon, sigma=sigma)\n",
    "# lj.r_cut[('_A1', '_SL1')] = r_cut\n",
    "# lj.params[('_A1', '_SL2')] = dict(epsilon=epsilon, sigma=sigma)\n",
    "# lj.r_cut[('_A1', '_SL2')] = r_cut\n",
    "\n",
    "# lj.params[('_A2', '_A2')] = dict(epsilon=epsilon, sigma=sigma)\n",
    "# lj.r_cut[('_A2', '_A2')] = r_cut\n",
    "# lj.params[('_A2', '_D')] = dict(epsilon=epsilon, sigma=sigma)\n",
    "# lj.r_cut[('_A2', '_D')] = r_cut\n",
    "# lj.params[('_A2', '_SS')] = dict(epsilon=epsilon, sigma=sigma)\n",
    "# lj.r_cut[('_A2', '_SS')] = r_cut\n",
    "# lj.params[('_A2', '_SL1')] = dict(epsilon=epsilon, sigma=sigma)\n",
    "# lj.r_cut[('_A2', '_SL1')] = r_cut\n",
    "# lj.params[('_A2', '_SL2')] = dict(epsilon=epsilon, sigma=sigma)\n",
    "# lj.r_cut[('_A2', '_SL2')] = r_cut\n",
    "\n",
    "# lj.params[('_D', '_D')] = dict(epsilon=epsilon, sigma=sigma)\n",
    "# lj.r_cut[('_D', '_D')] = r_cut\n",
    "# lj.params[('_D', '_SS')] = dict(epsilon=epsilon, sigma=sigma)\n",
    "# lj.r_cut[('_D', '_SS')] = r_cut\n",
    "# lj.params[('_D', '_SL1')] = dict(epsilon=epsilon, sigma=sigma)\n",
    "# lj.r_cut[('_D', '_SL1')] = r_cut\n",
    "# lj.params[('_D', '_SL2')] = dict(epsilon=epsilon, sigma=sigma)\n",
    "# lj.r_cut[('_D', '_SL2')] = r_cut\n",
    "\n",
    "# lj.params[('_SS', '_SS')] = dict(epsilon=epsilon, sigma=sigma)\n",
    "# lj.r_cut[('_SS', '_SS')] = r_cut\n",
    "# lj.params[('_SS', '_SL1')] = dict(epsilon=epsilon, sigma=sigma)\n",
    "# lj.r_cut[('_SS', '_SL1')] = r_cut\n",
    "# lj.params[('SS', '_SL2')] = dict(epsilon=epsilon, sigma=sigma)\n",
    "# lj.r_cut[('_SS', '_SL2')] = r_cut\n",
    "\n",
    "# lj.params[('_SL1', '_SL1')] = dict(epsilon=epsilon, sigma=sigma)\n",
    "# lj.r_cut[('_SL1', '_SL1')] = r_cut\n",
    "# lj.params[('_SL1', '_SL2')] = dict(epsilon=epsilon, sigma=sigma)\n",
    "# lj.r_cut[('_SL1', '_SL2')] = r_cut\n",
    "\n",
    "# lj.params[('_SL2', '_SL2')] = dict(epsilon=epsilon, sigma=sigma)\n",
    "# lj.r_cut[('_SL2', '_SL2')] = r_cut\n",
    "# lj.params[('_SL2', '_SS')] = dict(epsilon=epsilon, sigma=sigma)\n",
    "# lj.r_cut[('_SL2', '_SS')] = r_cut\n",
    "# integrator.forces.append(lj)\n",
    "integrator.forces.extend(forcefield)\n",
    "# NVT\n",
    "nvt = hoomd.md.methods.NVT(kT=KT, filter=hoomd.filter.All(), tau=1.0)\n",
    "integrator.methods.append(nvt)\n",
    "sim.operations.integrator = integrator"
   ]
  },
  {
   "cell_type": "markdown",
   "id": "bfb65f4d",
   "metadata": {},
   "source": [
    "## Box Compressor"
   ]
  },
  {
   "cell_type": "code",
   "execution_count": 15,
   "id": "e6a9bd10",
   "metadata": {},
   "outputs": [
    {
     "data": {
      "text/plain": [
       "2.161089681640111e-09"
      ]
     },
     "execution_count": 15,
     "metadata": {},
     "output_type": "execute_result"
    }
   ],
   "source": [
    "rho = sim.state.N_particles / sim.state.box.volume\n",
    "rho"
   ]
  },
  {
   "cell_type": "code",
   "execution_count": 16,
   "id": "cbbfa153",
   "metadata": {},
   "outputs": [],
   "source": [
    "initial_box = sim.state.box\n",
    "final_box = hoomd.Box.from_box(initial_box)  # make a copy of initial_box\n",
    "final_rho = 1.2\n",
    "final_box.volume = sim.state.N_particles / final_rho"
   ]
  },
  {
   "cell_type": "code",
   "execution_count": 17,
   "id": "9225bf6c",
   "metadata": {},
   "outputs": [
    {
     "data": {
      "text/plain": [
       "hoomd.box.Box(Lx=2941.462390747833, Ly=2941.462390747833, Lz=2941.462390747833, xy=0.0, xz=0.0, yz=0.0)"
      ]
     },
     "execution_count": 17,
     "metadata": {},
     "output_type": "execute_result"
    }
   ],
   "source": [
    "initial_box"
   ]
  },
  {
   "cell_type": "code",
   "execution_count": 18,
   "id": "0ffd14de",
   "metadata": {},
   "outputs": [
    {
     "data": {
      "text/plain": [
       "hoomd.box.Box(Lx=3.5787152816982366, Ly=3.5787152816982366, Lz=3.5787152816982366, xy=0.0, xz=0.0, yz=0.0)"
      ]
     },
     "execution_count": 18,
     "metadata": {},
     "output_type": "execute_result"
    }
   ],
   "source": [
    "final_box"
   ]
  },
  {
   "cell_type": "code",
   "execution_count": 19,
   "id": "590fc9fe",
   "metadata": {},
   "outputs": [],
   "source": [
    "ramp = hoomd.variant.Ramp(A=0, B=1, t_start=sim.timestep, t_ramp=20000)"
   ]
  },
  {
   "cell_type": "code",
   "execution_count": 20,
   "id": "697fba40",
   "metadata": {},
   "outputs": [],
   "source": [
    "box_resizer = hoomd.update.BoxResize(trigger=hoomd.trigger.Periodic(100),\n",
    "                                    box1=initial_box,\n",
    "                                    box2=final_box,\n",
    "                                    variant=ramp)"
   ]
  },
  {
   "cell_type": "code",
   "execution_count": 21,
   "id": "6a731014",
   "metadata": {},
   "outputs": [],
   "source": [
    "sim.operations.updaters.append(box_resizer)"
   ]
  },
  {
   "cell_type": "code",
   "execution_count": null,
   "id": "0d483c60",
   "metadata": {},
   "outputs": [
    {
     "name": "stderr",
     "output_type": "stream",
     "text": [
      "*Warning*: dihedral.harmonic: specified phi_0 outside [0, 2pi)\n",
      "*Warning*: dihedral.harmonic: specified phi_0 outside [0, 2pi)\n"
     ]
    }
   ],
   "source": [
    "sim.state.thermalize_particle_momenta(filter=hoomd.filter.All(), kT=KT)\n",
    "thermodynamic_properties = hoomd.md.compute.ThermodynamicQuantities(\n",
    "    filter=hoomd.filter.All())\n",
    "sim.operations.computes.append(thermodynamic_properties)\n",
    "sim.run(0)"
   ]
  },
  {
   "cell_type": "code",
   "execution_count": 23,
   "id": "57d06bd0",
   "metadata": {},
   "outputs": [
    {
     "data": {
      "text/plain": [
       "hoomd.box.Box(Lx=8.530240933168715, Ly=6.765363498720015, Lz=3.8239011079721825, xy=0.0, xz=0.0, yz=0.0)"
      ]
     },
     "execution_count": 23,
     "metadata": {},
     "output_type": "execute_result"
    }
   ],
   "source": [
    "sim.state.box"
   ]
  },
  {
   "cell_type": "code",
   "execution_count": 24,
   "id": "adfd8901",
   "metadata": {},
   "outputs": [],
   "source": [
    "logger = hoomd.logging.Logger()\n",
    "logger.add(thermodynamic_properties, quantities=[\"potential_energy\",\"kinetic_energy\", \"kinetic_temperature\", \"pressure\"])\n",
    "logger.add(harmonic, quantities=[\"energy\"])\n",
    "logger.add(lj, quantities=[\"energy\"])\n",
    "logger.add(harmonic_angle, quantities=[\"energy\"])\n",
    "logger.add(harmonic_dihedrals, quantities=[\"energy\"])\n",
    "gsd_writer = hoomd.write.GSD(filename='data/logs_angle_dihedral-may4/log_Y6_n100_L10_s600k_k100_T1.5.gsd',\n",
    "                             trigger=hoomd.trigger.Periodic(1000),\n",
    "                             mode='xb',\n",
    "                             filter=hoomd.filter.All())\n",
    "sim.operations.writers.append(gsd_writer)\n",
    "gsd_writer.log = logger"
   ]
  },
  {
   "cell_type": "code",
   "execution_count": 25,
   "id": "6eb3e05e",
   "metadata": {},
   "outputs": [
    {
     "ename": "RuntimeError",
     "evalue": "nlist: Simulation box is too small! Particles would be interacting with themselves.rmax=2.9\nnearest_plane_distance.x=8.53024\nnearest_plane_distance.y=6.76536\nnearest_plane_distance.z=3.8239\n",
     "output_type": "error",
     "traceback": [
      "\u001b[0;31m---------------------------------------------------------------------------\u001b[0m",
      "\u001b[0;31mRuntimeError\u001b[0m                              Traceback (most recent call last)",
      "Input \u001b[0;32mIn [25]\u001b[0m, in \u001b[0;36m<cell line: 1>\u001b[0;34m()\u001b[0m\n\u001b[0;32m----> 1\u001b[0m \u001b[43msim\u001b[49m\u001b[38;5;241;43m.\u001b[39;49m\u001b[43mrun\u001b[49m\u001b[43m(\u001b[49m\u001b[38;5;241;43m6e5\u001b[39;49m\u001b[43m)\u001b[49m\n",
      "File \u001b[0;32m~/anaconda3/envs/hoomd-ex/lib/python3.10/site-packages/hoomd/simulation.py:435\u001b[0m, in \u001b[0;36mSimulation.run\u001b[0;34m(self, steps, write_at_start)\u001b[0m\n\u001b[1;32m    431\u001b[0m \u001b[38;5;28;01mif\u001b[39;00m steps_int \u001b[38;5;241m<\u001b[39m \u001b[38;5;241m0\u001b[39m \u001b[38;5;129;01mor\u001b[39;00m steps_int \u001b[38;5;241m>\u001b[39m TIMESTEP_MAX \u001b[38;5;241m-\u001b[39m \u001b[38;5;241m1\u001b[39m:\n\u001b[1;32m    432\u001b[0m     \u001b[38;5;28;01mraise\u001b[39;00m \u001b[38;5;167;01mValueError\u001b[39;00m(\u001b[38;5;124mf\u001b[39m\u001b[38;5;124m\"\u001b[39m\u001b[38;5;124msteps must be in the range [0, \u001b[39m\u001b[38;5;124m\"\u001b[39m\n\u001b[1;32m    433\u001b[0m                      \u001b[38;5;124mf\u001b[39m\u001b[38;5;124m\"\u001b[39m\u001b[38;5;132;01m{\u001b[39;00mTIMESTEP_MAX\u001b[38;5;241m-\u001b[39m\u001b[38;5;241m1\u001b[39m\u001b[38;5;132;01m}\u001b[39;00m\u001b[38;5;124m]\u001b[39m\u001b[38;5;124m\"\u001b[39m)\n\u001b[0;32m--> 435\u001b[0m \u001b[38;5;28;43mself\u001b[39;49m\u001b[38;5;241;43m.\u001b[39;49m\u001b[43m_cpp_sys\u001b[49m\u001b[38;5;241;43m.\u001b[39;49m\u001b[43mrun\u001b[49m\u001b[43m(\u001b[49m\u001b[43msteps_int\u001b[49m\u001b[43m,\u001b[49m\u001b[43m \u001b[49m\u001b[43mwrite_at_start\u001b[49m\u001b[43m)\u001b[49m\n",
      "\u001b[0;31mRuntimeError\u001b[0m: nlist: Simulation box is too small! Particles would be interacting with themselves.rmax=2.9\nnearest_plane_distance.x=8.53024\nnearest_plane_distance.y=6.76536\nnearest_plane_distance.z=3.8239\n"
     ]
    }
   ],
   "source": [
    "sim.run(6e5)"
   ]
  },
  {
   "cell_type": "code",
   "execution_count": 26,
   "id": "ec052d5b",
   "metadata": {},
   "outputs": [
    {
     "data": {
      "text/plain": [
       "hoomd.box.Box(Lx=8.530240933168715, Ly=6.765363498720015, Lz=3.8239011079721825, xy=0.0, xz=0.0, yz=0.0)"
      ]
     },
     "execution_count": 26,
     "metadata": {},
     "output_type": "execute_result"
    }
   ],
   "source": [
    "sim.state.box"
   ]
  },
  {
   "cell_type": "code",
   "execution_count": null,
   "id": "7c3b4400",
   "metadata": {},
   "outputs": [],
   "source": []
  }
 ],
 "metadata": {
  "kernelspec": {
   "display_name": "Python 3 (ipykernel)",
   "language": "python",
   "name": "python3"
  },
  "language_info": {
   "codemirror_mode": {
    "name": "ipython",
    "version": 3
   },
   "file_extension": ".py",
   "mimetype": "text/x-python",
   "name": "python",
   "nbconvert_exporter": "python",
   "pygments_lexer": "ipython3",
   "version": "3.8.13"
  }
 },
 "nbformat": 4,
 "nbformat_minor": 5
}
