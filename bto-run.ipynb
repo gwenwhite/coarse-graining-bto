{
 "cells": [
  {
   "cell_type": "code",
   "execution_count": 27,
   "id": "c19d6763",
   "metadata": {},
   "outputs": [],
   "source": [
    "import mbuild as mb\n",
    "import itertools\n",
    "import math\n",
    "\n",
    "import gsd.hoomd\n",
    "import hoomd\n",
    "import numpy\n",
    "import foyer"
   ]
  },
  {
   "cell_type": "code",
   "execution_count": 28,
   "id": "56fc8d86",
   "metadata": {},
   "outputs": [
    {
     "name": "stderr",
     "output_type": "stream",
     "text": [
      "/home/gwenwhite/miniconda3/envs/grits/lib/python3.8/site-packages/mbuild/conversion.py:1763: UserWarning: No element attribute associated with '<_A1 pos=([0. 0. 0.]), 2 bonds, id: 140373029236160>'; and no matching elements found based upon the compound name. Setting atomic number to zero.\n",
      "  warn(warn_msg)\n",
      "/home/gwenwhite/miniconda3/envs/grits/lib/python3.8/site-packages/mbuild/conversion.py:1763: UserWarning: No element attribute associated with '<_D pos=([ 0.6 -0.4  0. ]), 4 bonds, id: 140373029236544>'; and no matching elements found based upon the compound name. Setting atomic number to zero.\n",
      "  warn(warn_msg)\n",
      "/home/gwenwhite/miniconda3/envs/grits/lib/python3.8/site-packages/mbuild/conversion.py:1763: UserWarning: No element attribute associated with '<_A2 pos=([ 1.  -1.2  0. ]), 1 bonds, id: 140373029319104>'; and no matching elements found based upon the compound name. Setting atomic number to zero.\n",
      "  warn(warn_msg)\n",
      "/home/gwenwhite/miniconda3/envs/grits/lib/python3.8/site-packages/mbuild/conversion.py:1763: UserWarning: No element attribute associated with '<_SS pos=([-0.1568 -0.6363  0.4135]), 1 bonds, id: 140373029319776>'; and no matching elements found based upon the compound name. Setting atomic number to zero.\n",
      "  warn(warn_msg)\n",
      "/home/gwenwhite/miniconda3/envs/grits/lib/python3.8/site-packages/mbuild/conversion.py:1763: UserWarning: No element attribute associated with '<_SL1 pos=([1.1  0.02 0.  ]), 2 bonds, id: 140373029320448>'; and no matching elements found based upon the compound name. Setting atomic number to zero.\n",
      "  warn(warn_msg)\n",
      "/home/gwenwhite/miniconda3/envs/grits/lib/python3.8/site-packages/mbuild/conversion.py:1763: UserWarning: No element attribute associated with '<_SL2 pos=([1.2 0.6 0. ]), 1 bonds, id: 140373029321120>'; and no matching elements found based upon the compound name. Setting atomic number to zero.\n",
      "  warn(warn_msg)\n"
     ]
    }
   ],
   "source": [
    "class btoCompound(mb.Compound):\n",
    "    def __init__(self):\n",
    "        super(btoCompound, self).__init__()\n",
    "        particle_A1 = mb.Particle(name=\"_A1\", pos=[0, 0, 0])\n",
    "        particle_D1 = mb.Particle(name=\"_D\", pos=[0.6, -0.4, 0])\n",
    "        particle_D2 = mb.Particle(name=\"_D\", pos=[-0.6, -0.4, 0])\n",
    "        particle_A21 = mb.Particle(name=\"_A2\", pos=[1, -1.2, 0])\n",
    "        particle_A22 = mb.Particle(name=\"_A2\", pos=[-1, -1.2, 0])\n",
    "        particle_ss1 = mb.Particle(name=\"_SS\", pos=[-0.1568, -0.6363, 0.4135])\n",
    "        particle_ss2 = mb.Particle(name=\"_SS\", pos=[0.1568, -0.6363, 0.4135])\n",
    "        particle_sl11 = mb.Particle(name=\"_SL1\", pos=[1.1, 0.02, 0])\n",
    "        particle_sl12 = mb.Particle(name=\"_SL1\", pos=[-1.1, 0.02, 0])\n",
    "        particle_sl21 = mb.Particle(name=\"_SL2\", pos=[1.2, 0.6, 0])\n",
    "        particle_sl22 = mb.Particle(name=\"_SL2\", pos=[-1.2, 0.6, 0])\n",
    "        self.add(particle_A1)\n",
    "        self.add(particle_D1)\n",
    "        self.add(particle_D2)\n",
    "        self.add(particle_A21)\n",
    "        self.add(particle_A22)\n",
    "        self.add(particle_ss1)\n",
    "        self.add(particle_ss2)\n",
    "        self.add(particle_sl11)\n",
    "        self.add(particle_sl12)\n",
    "        self.add(particle_sl21)\n",
    "        self.add(particle_sl22)\n",
    "        self.add_bond((self[0], self[1]))\n",
    "        self.add_bond((self[0], self[2]))\n",
    "        self.add_bond((self[1], self[3]))\n",
    "        self.add_bond((self[2], self[4]))\n",
    "        self.add_bond((self[1], self[5]))\n",
    "        self.add_bond((self[2], self[6]))\n",
    "        self.add_bond((self[1], self[7]))\n",
    "        self.add_bond((self[2], self[8]))\n",
    "        self.add_bond((self[7], self[9]))\n",
    "        self.add_bond((self[8], self[10]))\n",
    "        \n",
    "\n",
    "bto_compound = btoCompound()   \n",
    "box_bto = mb.fill_box(compound=bto_compound, n_compounds=5, box=[100, 100, 100])"
   ]
  },
  {
   "cell_type": "code",
   "execution_count": 29,
   "id": "2fa45ccb",
   "metadata": {},
   "outputs": [],
   "source": [
    "foyer_forcefield = foyer.Forcefield(\"bto-ff.xml\")"
   ]
  },
  {
   "cell_type": "code",
   "execution_count": 30,
   "id": "76b385fe",
   "metadata": {},
   "outputs": [
    {
     "name": "stderr",
     "output_type": "stream",
     "text": [
      "/home/gwenwhite/miniconda3/envs/grits/lib/python3.8/site-packages/mbuild/conversion.py:1763: UserWarning: No element attribute associated with '<_A1 pos=([60.5712 42.03   56.8524]), 2 bonds, id: 140373029322704>'; and no matching elements found based upon the compound name. Setting atomic number to zero.\n",
      "  warn(warn_msg)\n",
      "/home/gwenwhite/miniconda3/envs/grits/lib/python3.8/site-packages/mbuild/conversion.py:1763: UserWarning: No element attribute associated with '<_D pos=([60.5637 41.8989 57.5615]), 4 bonds, id: 140373029322656>'; and no matching elements found based upon the compound name. Setting atomic number to zero.\n",
      "  warn(warn_msg)\n",
      "/home/gwenwhite/miniconda3/envs/grits/lib/python3.8/site-packages/mbuild/conversion.py:1763: UserWarning: No element attribute associated with '<_A2 pos=([60.1127 41.7325 58.3157]), 1 bonds, id: 140373029321888>'; and no matching elements found based upon the compound name. Setting atomic number to zero.\n",
      "  warn(warn_msg)\n",
      "/home/gwenwhite/miniconda3/envs/grits/lib/python3.8/site-packages/mbuild/conversion.py:1763: UserWarning: No element attribute associated with '<_SS pos=([59.9288 42.3604 57.133 ]), 1 bonds, id: 140373029319248>'; and no matching elements found based upon the compound name. Setting atomic number to zero.\n",
      "  warn(warn_msg)\n",
      "/home/gwenwhite/miniconda3/envs/grits/lib/python3.8/site-packages/mbuild/conversion.py:1763: UserWarning: No element attribute associated with '<_SL1 pos=([61.1874 41.9014 57.7547]), 2 bonds, id: 140373028769904>'; and no matching elements found based upon the compound name. Setting atomic number to zero.\n",
      "  warn(warn_msg)\n",
      "/home/gwenwhite/miniconda3/envs/grits/lib/python3.8/site-packages/mbuild/conversion.py:1763: UserWarning: No element attribute associated with '<_SL2 pos=([61.727  41.9754 57.5315]), 1 bonds, id: 140373028771872>'; and no matching elements found based upon the compound name. Setting atomic number to zero.\n",
      "  warn(warn_msg)\n"
     ]
    }
   ],
   "source": [
    "typed_bto = foyer_forcefield.apply(box_bto, verbose=False)"
   ]
  },
  {
   "cell_type": "code",
   "execution_count": 31,
   "id": "4ab2e779",
   "metadata": {},
   "outputs": [],
   "source": [
    "from mbuild.formats.hoomd_forcefield import create_hoomd_forcefield"
   ]
  },
  {
   "cell_type": "code",
   "execution_count": 32,
   "id": "419a29f5",
   "metadata": {},
   "outputs": [
    {
     "name": "stdout",
     "output_type": "stream",
     "text": [
      "Processing LJ and QQ\n",
      "No charged groups found, ignoring electrostatics\n",
      "Processing harmonic bonds\n",
      "Processing harmonic angles\n",
      "Processing periodic torsions\n"
     ]
    }
   ],
   "source": [
    "snapshot, forcefield, refs = create_hoomd_forcefield(\n",
    "    typed_bto,\n",
    "    auto_scale=True,\n",
    "    r_cut=2.5\n",
    ")"
   ]
  },
  {
   "cell_type": "code",
   "execution_count": 33,
   "id": "1a25c365",
   "metadata": {},
   "outputs": [],
   "source": [
    "gpu = hoomd.device.GPU()\n",
    "sim = hoomd.Simulation(device=gpu, seed=1,)"
   ]
  },
  {
   "cell_type": "code",
   "execution_count": 34,
   "id": "15071981",
   "metadata": {},
   "outputs": [],
   "source": [
    "sim.create_state_from_snapshot(snapshot)"
   ]
  },
  {
   "cell_type": "markdown",
   "id": "b6d7b0e1",
   "metadata": {},
   "source": [
    "## Build Integrator"
   ]
  },
  {
   "cell_type": "code",
   "execution_count": 35,
   "id": "17a22f74",
   "metadata": {},
   "outputs": [],
   "source": [
    "bonds_k = 3.\n",
    "angle_k = 3.\n",
    "dihedral_k = 3.\n",
    "\n",
    "epsilon = 1\n",
    "sigma = 1\n",
    "r_cut = 2.5\n",
    "KT = 1.5"
   ]
  },
  {
   "cell_type": "code",
   "execution_count": 36,
   "id": "36a5707b",
   "metadata": {},
   "outputs": [],
   "source": [
    "integrator = hoomd.md.Integrator(dt=0.005)\n",
    "integrator.forces.extend(forcefield)\n",
    "# NVT\n",
    "nvt = hoomd.md.methods.NVT(kT=KT, filter=hoomd.filter.All(), tau=1.0)\n",
    "integrator.methods.append(nvt)\n",
    "sim.operations.integrator = integrator"
   ]
  },
  {
   "cell_type": "markdown",
   "id": "ae4b35ba",
   "metadata": {},
   "source": [
    "## Box Compressor"
   ]
  },
  {
   "cell_type": "code",
   "execution_count": 37,
   "id": "fba787ae",
   "metadata": {},
   "outputs": [
    {
     "data": {
      "text/plain": [
       "2.161089681640111e-06"
      ]
     },
     "execution_count": 37,
     "metadata": {},
     "output_type": "execute_result"
    }
   ],
   "source": [
    "rho = sim.state.N_particles / sim.state.box.volume\n",
    "rho"
   ]
  },
  {
   "cell_type": "code",
   "execution_count": 38,
   "id": "1d28e9f8",
   "metadata": {},
   "outputs": [],
   "source": [
    "initial_box = sim.state.box\n",
    "final_box = hoomd.Box.from_box(initial_box)  # make a copy of initial_box\n",
    "final_rho = 0.1\n",
    "final_box.volume = sim.state.N_particles / final_rho"
   ]
  },
  {
   "cell_type": "code",
   "execution_count": 39,
   "id": "899a8fc2",
   "metadata": {},
   "outputs": [
    {
     "data": {
      "text/plain": [
       "hoomd.box.Box(Lx=294.1462390747833, Ly=294.1462390747833, Lz=294.1462390747833, xy=0.0, xz=0.0, yz=0.0)"
      ]
     },
     "execution_count": 39,
     "metadata": {},
     "output_type": "execute_result"
    }
   ],
   "source": [
    "initial_box"
   ]
  },
  {
   "cell_type": "code",
   "execution_count": 40,
   "id": "dd75bd79",
   "metadata": {},
   "outputs": [
    {
     "data": {
      "text/plain": [
       "hoomd.box.Box(Lx=8.19321270600646, Ly=8.19321270600646, Lz=8.19321270600646, xy=0.0, xz=0.0, yz=0.0)"
      ]
     },
     "execution_count": 40,
     "metadata": {},
     "output_type": "execute_result"
    }
   ],
   "source": [
    "final_box"
   ]
  },
  {
   "cell_type": "code",
   "execution_count": 41,
   "id": "a01c3688",
   "metadata": {},
   "outputs": [],
   "source": [
    "ramp = hoomd.variant.Ramp(A=0, B=1, t_start=sim.timestep, t_ramp=20000)"
   ]
  },
  {
   "cell_type": "code",
   "execution_count": 42,
   "id": "65a0e307",
   "metadata": {},
   "outputs": [],
   "source": [
    "box_resizer = hoomd.update.BoxResize(trigger=hoomd.trigger.Periodic(100),\n",
    "                                    box1=initial_box,\n",
    "                                    box2=final_box,\n",
    "                                    variant=ramp)"
   ]
  },
  {
   "cell_type": "code",
   "execution_count": 43,
   "id": "5cc5f874",
   "metadata": {},
   "outputs": [],
   "source": [
    "sim.operations.updaters.append(box_resizer)"
   ]
  },
  {
   "cell_type": "code",
   "execution_count": 44,
   "id": "33bde26a",
   "metadata": {},
   "outputs": [],
   "source": [
    "sim.state.thermalize_particle_momenta(filter=hoomd.filter.All(), kT=KT)\n",
    "thermodynamic_properties = hoomd.md.compute.ThermodynamicQuantities(\n",
    "    filter=hoomd.filter.All())\n",
    "sim.operations.computes.append(thermodynamic_properties)\n",
    "sim.run(0)"
   ]
  },
  {
   "cell_type": "code",
   "execution_count": 45,
   "id": "7ca517b4",
   "metadata": {},
   "outputs": [],
   "source": [
    "logger = hoomd.logging.Logger()\n",
    "logger.add(thermodynamic_properties, quantities=[\"potential_energy\",\"kinetic_energy\", \"kinetic_temperature\", \"pressure\"])\n",
    "gsd_writer = hoomd.write.GSD(filename='cg_bto_traj.gsd',\n",
    "                             trigger=hoomd.trigger.Periodic(1000),\n",
    "                             mode='wb',\n",
    "                             filter=hoomd.filter.All())\n",
    "sim.operations.writers.append(gsd_writer)\n",
    "gsd_writer.log = logger"
   ]
  },
  {
   "cell_type": "code",
   "execution_count": 46,
   "id": "96c94ea7",
   "metadata": {},
   "outputs": [],
   "source": [
    "sim.run(1e5)"
   ]
  },
  {
   "cell_type": "code",
   "execution_count": null,
   "id": "465240aa",
   "metadata": {},
   "outputs": [],
   "source": []
  }
 ],
 "metadata": {
  "kernelspec": {
   "display_name": "Python 3 (ipykernel)",
   "language": "python",
   "name": "python3"
  },
  "language_info": {
   "codemirror_mode": {
    "name": "ipython",
    "version": 3
   },
   "file_extension": ".py",
   "mimetype": "text/x-python",
   "name": "python",
   "nbconvert_exporter": "python",
   "pygments_lexer": "ipython3",
   "version": "3.8.13"
  }
 },
 "nbformat": 4,
 "nbformat_minor": 5
}
